{
  "nbformat": 4,
  "nbformat_minor": 0,
  "metadata": {
    "colab": {
      "provenance": [],
      "authorship_tag": "ABX9TyNl2VJttXkJC3+f0+VdZ2QI",
      "include_colab_link": true
    },
    "kernelspec": {
      "name": "python3",
      "display_name": "Python 3"
    },
    "language_info": {
      "name": "python"
    }
  },
  "cells": [
    {
      "cell_type": "markdown",
      "metadata": {
        "id": "view-in-github",
        "colab_type": "text"
      },
      "source": [
        "<a href=\"https://colab.research.google.com/github/OscarAliM/Matematicas_y_Ciencia_de_Datos_2024/blob/main/Contador_de_Vocales.ipynb\" target=\"_parent\"><img src=\"https://colab.research.google.com/assets/colab-badge.svg\" alt=\"Open In Colab\"/></a>"
      ]
    },
    {
      "cell_type": "code",
      "execution_count": 4,
      "metadata": {
        "colab": {
          "base_uri": "https://localhost:8080/"
        },
        "id": "CIEQ7Q_qZE0G",
        "outputId": "b11125d9-ddb4-4f75-a033-2ba6df16b083"
      },
      "outputs": [
        {
          "output_type": "stream",
          "name": "stdout",
          "text": [
            "¿Cuántas frases vas a ingresar en esta ronda? 6\n",
            "Por favor, ingresa la frase 1: debes apreciar el jazz improvisado\n",
            "La frase tiene un total de 13 vocales.\n",
            "La vocal \"a\" aparece 4 veces.\n",
            "La vocal \"e\" aparece 4 veces.\n",
            "La vocal \"i\" aparece 3 veces.\n",
            "La vocal \"o\" aparece 2 veces.\n",
            "La vocal \"u\" aparece 0 veces.\n",
            "Por favor, ingresa la frase 2: yo quiero hacer la parte de patear\n",
            "La frase tiene un total de 14 vocales.\n",
            "La vocal \"a\" aparece 5 veces.\n",
            "La vocal \"e\" aparece 5 veces.\n",
            "La vocal \"i\" aparece 1 veces.\n",
            "La vocal \"o\" aparece 2 veces.\n",
            "La vocal \"u\" aparece 1 veces.\n",
            "Por favor, ingresa la frase 3: santos bacalaos es el jefe\n",
            "La frase tiene un total de 10 vocales.\n",
            "La vocal \"a\" aparece 4 veces.\n",
            "La vocal \"e\" aparece 4 veces.\n",
            "La vocal \"i\" aparece 0 veces.\n",
            "La vocal \"o\" aparece 2 veces.\n",
            "La vocal \"u\" aparece 0 veces.\n",
            "Por favor, ingresa la frase 4: mis pensamientos dentro de mi mente son un enigma\n",
            "La frase tiene un total de 17 vocales.\n",
            "La vocal \"a\" aparece 2 veces.\n",
            "La vocal \"e\" aparece 7 veces.\n",
            "La vocal \"i\" aparece 4 veces.\n",
            "La vocal \"o\" aparece 3 veces.\n",
            "La vocal \"u\" aparece 1 veces.\n",
            "Por favor, ingresa la frase 5: uvuvuevuevue enyetuenwuevue ugwemubwem ossas\n",
            "La frase tiene un total de 22 vocales.\n",
            "La vocal \"a\" aparece 1 veces.\n",
            "La vocal \"e\" aparece 10 veces.\n",
            "La vocal \"i\" aparece 0 veces.\n",
            "La vocal \"o\" aparece 1 veces.\n",
            "La vocal \"u\" aparece 10 veces.\n",
            "Por favor, ingresa la frase 6: el cafe con leche es como el cafe pero con leche\n",
            "La frase tiene un total de 17 vocales.\n",
            "La vocal \"a\" aparece 2 veces.\n",
            "La vocal \"e\" aparece 10 veces.\n",
            "La vocal \"i\" aparece 0 veces.\n",
            "La vocal \"o\" aparece 5 veces.\n",
            "La vocal \"u\" aparece 0 veces.\n"
          ]
        }
      ],
      "source": [
        "def contar_vocales(frase):\n",
        "    # Inicializamos un diccionario para almacenar el contador de cada vocal\n",
        "    contador_vocales = {'a': 0, 'e': 0, 'i': 0, 'o': 0, 'u': 0}\n",
        "    total_vocales = 0  # Variable para contar el total de vocales en la frase\n",
        "\n",
        "    # Convertimos la frase a minúsculas para simplificar el conteo\n",
        "    frase = frase.lower()\n",
        "\n",
        "    # Iteramos sobre cada carácter en la frase\n",
        "    for caracter in frase:\n",
        "        # Verificamos si el carácter es una vocal\n",
        "        if caracter in 'aeiou':\n",
        "            # Incrementamos el contador correspondiente en el diccionario\n",
        "            contador_vocales[caracter] += 1\n",
        "            # Incrementamos el contador total de vocales\n",
        "            total_vocales += 1\n",
        "\n",
        "    # Imprimimos el resultado del total de vocales en la frase\n",
        "    print(f'La frase tiene un total de {total_vocales} vocales.')\n",
        "\n",
        "    # Imprimimos el resultado de cada vocal en la frase\n",
        "    for vocal, contador in contador_vocales.items():\n",
        "        print(f'La vocal \"{vocal}\" aparece {contador} veces.')\n",
        "\n",
        "# Solicitamos la cantidad de frases que se van a ingresar en cada ronda\n",
        "cantidad_frases = int(input(\"¿Cuántas frases vas a ingresar en esta ronda? \"))\n",
        "\n",
        "# Iteramos sobre la cantidad de frases especificadas\n",
        "for i in range(cantidad_frases):\n",
        "    # Solicitamos la entrada del usuario para cada frase\n",
        "    frase_usuario = input(f\"Por favor, ingresa la frase {i+1}: \")\n",
        "    # Llamamos a la función contar_vocales con la frase proporcionada por el usuario\n",
        "    contar_vocales(frase_usuario)"
      ]
    }
  ]
}