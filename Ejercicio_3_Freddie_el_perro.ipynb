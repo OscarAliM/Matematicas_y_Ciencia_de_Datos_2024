{
  "nbformat": 4,
  "nbformat_minor": 0,
  "metadata": {
    "colab": {
      "provenance": [],
      "authorship_tag": "ABX9TyOdEmEvyflL2i+OBj9CR4XL",
      "include_colab_link": true
    },
    "kernelspec": {
      "name": "python3",
      "display_name": "Python 3"
    },
    "language_info": {
      "name": "python"
    }
  },
  "cells": [
    {
      "cell_type": "markdown",
      "metadata": {
        "id": "view-in-github",
        "colab_type": "text"
      },
      "source": [
        "<a href=\"https://colab.research.google.com/github/OscarAliM/Matematicas_y_Ciencia_de_Datos_2024/blob/main/Ejercicio_3_Freddie_el_perro.ipynb\" target=\"_parent\"><img src=\"https://colab.research.google.com/assets/colab-badge.svg\" alt=\"Open In Colab\"/></a>"
      ]
    },
    {
      "cell_type": "code",
      "source": [
        "# Características del perro\n",
        "freddie_caracteristicas=[\"Freddie\", 7, True, 8, 2017, [\"enterrar huesos\", \"jugar con pelotas de tenis\", \"ladrar al cartero\", \"robar juguetes\"]]\n",
        "nombre,edad,vacunas,peso,año,hobbies=freddie_caracteristicas\n",
        "\n",
        "# Imprimir las características del perro Freddie\n",
        "#print(\"Características de Freddie: \")\n",
        "print(\"Nombre:\", nombre)\n",
        "print(\"Edad:\", edad)\n",
        "print(\"¿Está vacunado?:\", \"Sí\" if freddie_caracteristicas[2] else \"No\")\n",
        "print(\"Año de nacimiento:\", freddie_caracteristicas[4])\n",
        "print(\"Peso:\", freddie_caracteristicas[3], \"kilos\")\n",
        "print(\"Hobbies:\", hobbies)"
      ],
      "metadata": {
        "colab": {
          "base_uri": "https://localhost:8080/"
        },
        "id": "qlw6AQoaFQ_K",
        "outputId": "13dfa53b-126f-476e-c7f7-b6997b94267b"
      },
      "execution_count": 8,
      "outputs": [
        {
          "output_type": "stream",
          "name": "stdout",
          "text": [
            "Nombre: Freddie\n",
            "Edad: 7\n",
            "¿Está vacunado?: Sí\n",
            "Año de nacimiento: 2017\n",
            "Peso: 8 kilos\n",
            "Hobbies: ['enterrar huesos', 'jugar con pelotas de tenis', 'ladrar al cartero', 'robar juguetes']\n"
          ]
        }
      ]
    },
    {
      "cell_type": "code",
      "source": [
        "freddie_caracteristicas.append(\"perseguir ardillas \")\n",
        "print(freddie_caracteristicas)"
      ],
      "metadata": {
        "colab": {
          "base_uri": "https://localhost:8080/"
        },
        "id": "kZrX0pO5FWvI",
        "outputId": "f8510ba6-d60f-47e7-cb5c-566eb4a184c8"
      },
      "execution_count": 11,
      "outputs": [
        {
          "output_type": "stream",
          "name": "stdout",
          "text": [
            "['Freddie', 7, True, 8, 2017, ['enterrar huesos', 'jugar con pelotas de tenis', 'ladrar al cartero', 'robar juguetes'], 'perseguir ardillas ']\n"
          ]
        }
      ]
    }
  ]
}