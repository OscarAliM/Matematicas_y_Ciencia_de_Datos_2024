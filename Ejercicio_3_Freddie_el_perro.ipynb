{
  "nbformat": 4,
  "nbformat_minor": 0,
  "metadata": {
    "colab": {
      "provenance": [],
      "authorship_tag": "ABX9TyNWlmFcGgaKirnXljF3qf9g",
      "include_colab_link": true
    },
    "kernelspec": {
      "name": "python3",
      "display_name": "Python 3"
    },
    "language_info": {
      "name": "python"
    }
  },
  "cells": [
    {
      "cell_type": "markdown",
      "metadata": {
        "id": "view-in-github",
        "colab_type": "text"
      },
      "source": [
        "<a href=\"https://colab.research.google.com/github/OscarAliM/Matematicas_y_Ciencia_de_Datos_2024/blob/main/Ejercicio_3_Freddie_el_perro.ipynb\" target=\"_parent\"><img src=\"https://colab.research.google.com/assets/colab-badge.svg\" alt=\"Open In Colab\"/></a>"
      ]
    },
    {
      "cell_type": "code",
      "execution_count": 12,
      "metadata": {
        "colab": {
          "base_uri": "https://localhost:8080/"
        },
        "id": "rAkSnykxrGII",
        "outputId": "4e014e86-f88f-4d98-c316-319360208f39"
      },
      "outputs": [
        {
          "output_type": "stream",
          "name": "stdout",
          "text": [
            "Características de Freddie:\n",
            "Nombre: Freddie\n",
            "Edad: 7\n",
            "¿Está vacunado?: Sí\n",
            "Año de nacimiento: 2017\n",
            "Peso: 8 kilos\n",
            "Hobbies: huesos, pelotas de tenis, cartero, juguetes\n"
          ]
        }
      ],
      "source": [
        "# Características del perro\n",
        "freddie_caracteristicas = [\"Freddie\", 7, True, 8, 2017, [\"huesos\", \"pelotas de tenis\", \"cartero\", \"juguetes\"]]\n",
        "\n",
        "# Imprimir las características del perro Freddie\n",
        "print(\"Características de Freddie:\")\n",
        "print(\"Nombre:\", freddie_caracteristicas[0])\n",
        "print(\"Edad:\", freddie_caracteristicas[1])\n",
        "print(\"¿Está vacunado?:\", \"Sí\" if freddie_caracteristicas[2] else \"No\")\n",
        "print(\"Año de nacimiento:\", freddie_caracteristicas[4])\n",
        "print(\"Peso:\", freddie_caracteristicas[3], \"kilos\")\n",
        "print(\"Hobbies:\", ', '.join(freddie_caracteristicas[5]))"
      ]
    }
  ]
}