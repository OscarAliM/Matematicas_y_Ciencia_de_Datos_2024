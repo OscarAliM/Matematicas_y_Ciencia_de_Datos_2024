{
  "nbformat": 4,
  "nbformat_minor": 0,
  "metadata": {
    "colab": {
      "provenance": [],
      "authorship_tag": "ABX9TyPIDvwjk0HExy33XjvLNMwM",
      "include_colab_link": true
    },
    "kernelspec": {
      "name": "python3",
      "display_name": "Python 3"
    },
    "language_info": {
      "name": "python"
    }
  },
  "cells": [
    {
      "cell_type": "markdown",
      "metadata": {
        "id": "view-in-github",
        "colab_type": "text"
      },
      "source": [
        "<a href=\"https://colab.research.google.com/github/OscarAliM/Matematicas_y_Ciencia_de_Datos_2024/blob/main/Ejercicio_4_Arizona_etc.ipynb\" target=\"_parent\"><img src=\"https://colab.research.google.com/assets/colab-badge.svg\" alt=\"Open In Colab\"/></a>"
      ]
    },
    {
      "cell_type": "code",
      "execution_count": 1,
      "metadata": {
        "id": "fZjObPXjvsBa"
      },
      "outputs": [],
      "source": [
        "test=[{'Arizona':'Phoenix', 'California':'Sacramento', 'Hawai':'Honolulu'},\n",
        "\n",
        "1000,\n",
        "\n",
        "2000,\n",
        "\n",
        "3000,\n",
        "\n",
        "['hat', 't-shirt', 'jeans', {'socks1': 'red', 'socks2':'blue'}]]"
      ]
    },
    {
      "cell_type": "code",
      "source": [
        "print('Número: ', test[2])\n",
        "print('Diccionario: ', test[0])\n",
        "print('Ciudad: ', test[0]['Arizona'])\n",
        "print('Prenda: ', test[4][2])"
      ],
      "metadata": {
        "colab": {
          "base_uri": "https://localhost:8080/"
        },
        "id": "GcGwn07_xT64",
        "outputId": "b764d58b-03c0-4fa5-e37b-d58230492213"
      },
      "execution_count": 2,
      "outputs": [
        {
          "output_type": "stream",
          "name": "stdout",
          "text": [
            "Número:  2000\n",
            "Diccionario:  {'Arizona': 'Phoenix', 'California': 'Sacramento', 'Hawai': 'Honolulu'}\n",
            "Ciudad:  Phoenix\n",
            "Prenda:  jeans\n"
          ]
        }
      ]
    }
  ]
}