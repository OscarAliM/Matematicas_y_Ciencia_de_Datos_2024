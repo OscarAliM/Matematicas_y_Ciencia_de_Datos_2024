{
  "nbformat": 4,
  "nbformat_minor": 0,
  "metadata": {
    "colab": {
      "provenance": [],
      "authorship_tag": "ABX9TyP2mqyxzeZ+Tl0ISRNYcYos",
      "include_colab_link": true
    },
    "kernelspec": {
      "name": "python3",
      "display_name": "Python 3"
    },
    "language_info": {
      "name": "python"
    }
  },
  "cells": [
    {
      "cell_type": "markdown",
      "metadata": {
        "id": "view-in-github",
        "colab_type": "text"
      },
      "source": [
        "<a href=\"https://colab.research.google.com/github/OscarAliM/Matematicas_y_Ciencia_de_Datos_2024/blob/main/Ejercicio_de_Cierre_1.ipynb\" target=\"_parent\"><img src=\"https://colab.research.google.com/assets/colab-badge.svg\" alt=\"Open In Colab\"/></a>"
      ]
    },
    {
      "cell_type": "code",
      "execution_count": 1,
      "metadata": {
        "colab": {
          "base_uri": "https://localhost:8080/"
        },
        "id": "3T9CIcSWzaP0",
        "outputId": "cd0570c3-f58d-4b5c-dea5-6830e33a3f4e"
      },
      "outputs": [
        {
          "output_type": "stream",
          "name": "stdout",
          "text": [
            "El menor precio es: 8\n",
            "El mayor precio es: 80\n"
          ]
        }
      ],
      "source": [
        "# Lista de precios\n",
        "precios = [50, 75, 46, 22, 80, 65, 8]\n",
        "\n",
        "# Encontrar el menor y mayor precio\n",
        "menor_precio = min(precios)\n",
        "mayor_precio = max(precios)\n",
        "\n",
        "# Mostrar los resultados por pantalla\n",
        "print(\"El menor precio es:\", menor_precio)\n",
        "print(\"El mayor precio es:\", mayor_precio)"
      ]
    }
  ]
}