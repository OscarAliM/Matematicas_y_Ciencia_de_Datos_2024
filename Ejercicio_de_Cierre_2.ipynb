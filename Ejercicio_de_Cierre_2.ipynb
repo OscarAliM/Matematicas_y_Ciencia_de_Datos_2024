{
  "nbformat": 4,
  "nbformat_minor": 0,
  "metadata": {
    "colab": {
      "provenance": [],
      "authorship_tag": "ABX9TyN4dGSz+KGEJIRYlNYY+9K4",
      "include_colab_link": true
    },
    "kernelspec": {
      "name": "python3",
      "display_name": "Python 3"
    },
    "language_info": {
      "name": "python"
    }
  },
  "cells": [
    {
      "cell_type": "markdown",
      "metadata": {
        "id": "view-in-github",
        "colab_type": "text"
      },
      "source": [
        "<a href=\"https://colab.research.google.com/github/OscarAliM/Matematicas_y_Ciencia_de_Datos_2024/blob/main/Ejercicio_de_Cierre_2.ipynb\" target=\"_parent\"><img src=\"https://colab.research.google.com/assets/colab-badge.svg\" alt=\"Open In Colab\"/></a>"
      ]
    },
    {
      "cell_type": "code",
      "execution_count": 12,
      "metadata": {
        "colab": {
          "base_uri": "https://localhost:8080/"
        },
        "id": "bQcuz0vJz2cr",
        "outputId": "50528d21-5903-4690-9d52-39489cb7b367"
      },
      "outputs": [
        {
          "output_type": "stream",
          "name": "stdout",
          "text": [
            "Yo estudio:  Matemáticas\n",
            "La materia que mas odio es:  Física\n",
            "La materia que mas me gusta es :  Historia\n",
            "Ironicamente tambien estudio Lengua pero soy peligrosamente ignorante\n"
          ]
        }
      ],
      "source": [
        "# Lista de asignaturas\n",
        "asignaturas = [\"Matemáticas\", \"Física\", \"Química\", \"Historia\", \"Lengua\"]\n",
        "\n",
        "# Mostrar el mensaje para cada asignatura en la lista\n",
        "print(\"Yo estudio: \", asignaturas[0])\n",
        "print(\"La materia que mas odio es: \", asignaturas[1])\n",
        "print(\"La materia que mas me gusta es : \", asignaturas[3])\n",
        "print(\"Ironicamente tambien estudio\", asignaturas[4], \"pero soy peligrosamente ignorante\")"
      ]
    }
  ]
}