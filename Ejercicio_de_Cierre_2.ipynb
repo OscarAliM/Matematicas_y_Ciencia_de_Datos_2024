{
  "nbformat": 4,
  "nbformat_minor": 0,
  "metadata": {
    "colab": {
      "provenance": [],
      "authorship_tag": "ABX9TyOmA/MUlz/bOk00h6rh50I2",
      "include_colab_link": true
    },
    "kernelspec": {
      "name": "python3",
      "display_name": "Python 3"
    },
    "language_info": {
      "name": "python"
    }
  },
  "cells": [
    {
      "cell_type": "markdown",
      "metadata": {
        "id": "view-in-github",
        "colab_type": "text"
      },
      "source": [
        "<a href=\"https://colab.research.google.com/github/OscarAliM/Matematicas_y_Ciencia_de_Datos_2024/blob/main/Ejercicio_de_Cierre_2.ipynb\" target=\"_parent\"><img src=\"https://colab.research.google.com/assets/colab-badge.svg\" alt=\"Open In Colab\"/></a>"
      ]
    },
    {
      "cell_type": "code",
      "execution_count": 4,
      "metadata": {
        "colab": {
          "base_uri": "https://localhost:8080/"
        },
        "id": "bQcuz0vJz2cr",
        "outputId": "43b76aec-06ec-4018-e521-bc2cde74a365"
      },
      "outputs": [
        {
          "output_type": "stream",
          "name": "stdout",
          "text": [
            "Yo estudio:  Matemáticas\n",
            "Yo estudio:  Física\n",
            "Yo estudio:  Química\n",
            "Yo estudio:  Historia\n",
            "Yo estudio:  Lengua\n"
          ]
        }
      ],
      "source": [
        "# Lista de asignaturas\n",
        "asignaturas = [\"Matemáticas\", \"Física\", \"Química\", \"Historia\", \"Lengua\"]\n",
        "\n",
        "# Mostrar el mensaje para cada asignatura en la lista\n",
        "for asignatura in asignaturas:\n",
        "    print(\"Yo estudio: \", asignatura)"
      ]
    }
  ]
}