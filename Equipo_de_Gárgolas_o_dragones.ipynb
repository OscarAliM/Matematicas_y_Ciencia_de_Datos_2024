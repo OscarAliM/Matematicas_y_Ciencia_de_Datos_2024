{
  "nbformat": 4,
  "nbformat_minor": 0,
  "metadata": {
    "colab": {
      "provenance": [],
      "authorship_tag": "ABX9TyOpSihxxPHKc7prfE11QTr+",
      "include_colab_link": true
    },
    "kernelspec": {
      "name": "python3",
      "display_name": "Python 3"
    },
    "language_info": {
      "name": "python"
    }
  },
  "cells": [
    {
      "cell_type": "markdown",
      "metadata": {
        "id": "view-in-github",
        "colab_type": "text"
      },
      "source": [
        "<a href=\"https://colab.research.google.com/github/OscarAliM/Matematicas_y_Ciencia_de_Datos_2024/blob/main/Equipo_de_G%C3%A1rgolas_o_dragones.ipynb\" target=\"_parent\"><img src=\"https://colab.research.google.com/assets/colab-badge.svg\" alt=\"Open In Colab\"/></a>"
      ]
    },
    {
      "cell_type": "code",
      "execution_count": 1,
      "metadata": {
        "colab": {
          "base_uri": "https://localhost:8080/"
        },
        "id": "lYbgzo0gVCi5",
        "outputId": "67450691-2079-4200-cf02-3f00276dce01"
      },
      "outputs": [
        {
          "output_type": "stream",
          "name": "stdout",
          "text": [
            "Ingrese la cantidad de participantes: 8\n",
            "Ingrese su nombre: Miguel\n",
            "Ingrese su sexo (Mujer/Hombre): Hombre\n",
            "Ingrese su nombre: Maria\n",
            "Ingrese su sexo (Mujer/Hombre): Mujer\n",
            "Ingrese su nombre: Ximena\n",
            "Ingrese su sexo (Mujer/Hombre): Mujer\n",
            "Ingrese su nombre: Ali\n",
            "Ingrese su sexo (Mujer/Hombre): Hombre\n",
            "Ingrese su nombre: David\n",
            "Ingrese su sexo (Mujer/Hombre): Hombre\n",
            "Ingrese su nombre: Jessica\n",
            "Ingrese su sexo (Mujer/Hombre): Mujer\n",
            "Ingrese su nombre: Hermenegildo\n",
            "Ingrese su sexo (Mujer/Hombre): Hombre\n",
            "Ingrese su nombre: Liz\n",
            "Ingrese su sexo (Mujer/Hombre): Mujer\n",
            "\n",
            "Equipo de los Dragones:\n",
            "Miguel\n",
            "Maria\n",
            "Ximena\n",
            "Ali\n",
            "David\n",
            "Hermenegildo\n",
            "\n",
            "Equipo de las Gárgolas:\n",
            "Jessica\n",
            "Liz\n"
          ]
        }
      ],
      "source": [
        "# Definir listas para los equipos\n",
        "dragones = []\n",
        "gargolas = []\n",
        "\n",
        "# Función para determinar el equipo\n",
        "def determinar_equipo(nombre, sexo):\n",
        "    if (sexo == \"Mujer\" and nombre[0] < \"M\") or (sexo == \"Hombre\" and nombre[0] > \"N\"):\n",
        "        return \"Gárgolas\"\n",
        "    else:\n",
        "        return \"Dragones\"\n",
        "\n",
        "# Pedir la cantidad de participantes\n",
        "num_participantes = int(input(\"Ingrese la cantidad de participantes: \"))\n",
        "\n",
        "# Pedir y registrar nombres y sexo de los participantes\n",
        "for i in range(num_participantes):\n",
        "    nombre = input(\"Ingrese su nombre: \")\n",
        "    sexo = input(\"Ingrese su sexo (Mujer/Hombre): \").capitalize()\n",
        "\n",
        "    equipo = determinar_equipo(nombre, sexo)\n",
        "\n",
        "    if equipo == \"Dragones\":\n",
        "        dragones.append(nombre)\n",
        "    else:\n",
        "        gargolas.append(nombre)\n",
        "\n",
        "# Mostrar los equipos\n",
        "print(\"\\nEquipo de los Dragones:\")\n",
        "for participante in dragones:\n",
        "    print(participante)\n",
        "\n",
        "print(\"\\nEquipo de las Gárgolas:\")\n",
        "for participante in gargolas:\n",
        "    print(participante)"
      ]
    }
  ]
}