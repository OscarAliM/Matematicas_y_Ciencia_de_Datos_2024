{
  "nbformat": 4,
  "nbformat_minor": 0,
  "metadata": {
    "colab": {
      "provenance": [],
      "authorship_tag": "ABX9TyPJdj/kXr8PgeorQiEY7S0/",
      "include_colab_link": true
    },
    "kernelspec": {
      "name": "python3",
      "display_name": "Python 3"
    },
    "language_info": {
      "name": "python"
    }
  },
  "cells": [
    {
      "cell_type": "markdown",
      "metadata": {
        "id": "view-in-github",
        "colab_type": "text"
      },
      "source": [
        "<a href=\"https://colab.research.google.com/github/OscarAliM/Matematicas_y_Ciencia_de_Datos_2024/blob/main/Fase_2_Entendimiento_de_los_datos.ipynb\" target=\"_parent\"><img src=\"https://colab.research.google.com/assets/colab-badge.svg\" alt=\"Open In Colab\"/></a>"
      ]
    },
    {
      "cell_type": "markdown",
      "source": [
        "# **Fase 2: entendimiento de los datos**"
      ],
      "metadata": {
        "id": "E2A7xlCEuWMc"
      }
    },
    {
      "cell_type": "markdown",
      "source": [
        "1.- Para la etapa de \"Entendimiento de los datos\" se debe de explorar tu base de\n",
        "datos utilizando Python."
      ],
      "metadata": {
        "id": "ENVETc0YuD_j"
      }
    },
    {
      "cell_type": "code",
      "execution_count": 78,
      "metadata": {
        "colab": {
          "base_uri": "https://localhost:8080/",
          "height": 611
        },
        "id": "xxiBth-DsSTP",
        "outputId": "a8704ca8-426e-4439-a181-62ba82bd65ed"
      },
      "outputs": [
        {
          "output_type": "execute_result",
          "data": {
            "text/plain": [
              "                   Momento                                    Nombre alimento  \\\n",
              "Fecha (dd/mm/aa)                                                                \n",
              "2024-02-12        Desayuno                                       Carne de Res   \n",
              "2024-02-12          Comida                                       Carne de Res   \n",
              "2024-02-12            Cena                                   Pechuga de Pollo   \n",
              "2024-02-13        Desayuno                                       Carne de Res   \n",
              "2024-02-13          Comida                                       Carne de Res   \n",
              "...                    ...                                                ...   \n",
              "NaT               Colacion                      Salteado de tofu con verduras   \n",
              "NaT               Colacion  Pollo o pescado a la parrilla con arroz integr...   \n",
              "NaT               Desayuno                Salmón con quinoa y verduras asadas   \n",
              "NaT                 Comida                            Sopa de frijoles negros   \n",
              "NaT                 Comida                                   Sopa de lentejas   \n",
              "\n",
              "                  Calorías (kcal)  Carbohidratos (g)  Lípidos/grasas (g)  \\\n",
              "Fecha (dd/mm/aa)                                                           \n",
              "2024-02-12                  0.135                0.0                4.62   \n",
              "2024-02-12                  0.135                0.0                4.62   \n",
              "2024-02-12                  0.195                0.0                7.72   \n",
              "2024-02-13                  0.135                0.0                4.62   \n",
              "2024-02-13                  0.135                0.0                4.62   \n",
              "...                           ...                ...                 ...   \n",
              "NaT                       450.000               30.0               20.00   \n",
              "NaT                       450.000               30.0               25.00   \n",
              "NaT                       150.000               25.0               25.00   \n",
              "NaT                       150.000               25.0               15.00   \n",
              "NaT                       250.000               15.0               10.00   \n",
              "\n",
              "                  Proteína (g)  Sodio (mg)  \\\n",
              "Fecha (dd/mm/aa)                             \n",
              "2024-02-12               21.91        57.0   \n",
              "2024-02-12               21.91        57.0   \n",
              "2024-02-12               29.55       393.0   \n",
              "2024-02-13               21.91        57.0   \n",
              "2024-02-13               21.91        57.0   \n",
              "...                        ...         ...   \n",
              "NaT                      25.00       325.0   \n",
              "NaT                      30.00       325.0   \n",
              "NaT                      30.00       375.0   \n",
              "NaT                      20.00       200.0   \n",
              "NaT                      20.00       200.0   \n",
              "\n",
              "                                                             Fuente  \\\n",
              "Fecha (dd/mm/aa)                                                      \n",
              "2024-02-12        https://www.fatsecret.com.mx/calorías-nutrició...   \n",
              "2024-02-12        https://www.fatsecret.com.mx/calorías-nutrició...   \n",
              "2024-02-12        https://www.fatsecret.com.mx/calorías-nutrició...   \n",
              "2024-02-13        https://www.fatsecret.com.mx/calorías-nutrició...   \n",
              "2024-02-13        https://www.fatsecret.com.mx/calorías-nutrició...   \n",
              "...                                                             ...   \n",
              "NaT                                                             NaN   \n",
              "NaT                                                             NaN   \n",
              "NaT                                                             NaN   \n",
              "NaT                                                             NaN   \n",
              "NaT                                                             NaN   \n",
              "\n",
              "                  Unnamed: 9          Unnamed: 10  \\\n",
              "Fecha (dd/mm/aa)                                    \n",
              "2024-02-12               NaN           Matrícula:   \n",
              "2024-02-12               NaN              Nombre:   \n",
              "2024-02-12               NaN                  NaN   \n",
              "2024-02-13               NaN  Momento de consumo:   \n",
              "2024-02-13               NaN                  NaN   \n",
              "...                      ...                  ...   \n",
              "NaT                      NaN                  NaN   \n",
              "NaT                      NaN                  NaN   \n",
              "NaT                      NaN                  NaN   \n",
              "NaT                      NaN                  NaN   \n",
              "NaT                      NaN                  NaN   \n",
              "\n",
              "                                                Unnamed: 11  \n",
              "Fecha (dd/mm/aa)                                             \n",
              "2024-02-12                                        A01736492  \n",
              "2024-02-12                         Oscar Ali Morales Juárez  \n",
              "2024-02-12                                              NaN  \n",
              "2024-02-13        Indicar el momento de consumo en la tabla  \n",
              "2024-02-13                                         Desayuno  \n",
              "...                                                     ...  \n",
              "NaT                                                     NaN  \n",
              "NaT                                                     NaN  \n",
              "NaT                                                     NaN  \n",
              "NaT                                                     NaN  \n",
              "NaT                                                     NaN  \n",
              "\n",
              "[355 rows x 11 columns]"
            ],
            "text/html": [
              "\n",
              "  <div id=\"df-94cb2f9a-4d26-4c97-9881-9ca6f8ad9c67\" class=\"colab-df-container\">\n",
              "    <div>\n",
              "<style scoped>\n",
              "    .dataframe tbody tr th:only-of-type {\n",
              "        vertical-align: middle;\n",
              "    }\n",
              "\n",
              "    .dataframe tbody tr th {\n",
              "        vertical-align: top;\n",
              "    }\n",
              "\n",
              "    .dataframe thead th {\n",
              "        text-align: right;\n",
              "    }\n",
              "</style>\n",
              "<table border=\"1\" class=\"dataframe\">\n",
              "  <thead>\n",
              "    <tr style=\"text-align: right;\">\n",
              "      <th></th>\n",
              "      <th>Momento</th>\n",
              "      <th>Nombre alimento</th>\n",
              "      <th>Calorías (kcal)</th>\n",
              "      <th>Carbohidratos (g)</th>\n",
              "      <th>Lípidos/grasas (g)</th>\n",
              "      <th>Proteína (g)</th>\n",
              "      <th>Sodio (mg)</th>\n",
              "      <th>Fuente</th>\n",
              "      <th>Unnamed: 9</th>\n",
              "      <th>Unnamed: 10</th>\n",
              "      <th>Unnamed: 11</th>\n",
              "    </tr>\n",
              "    <tr>\n",
              "      <th>Fecha (dd/mm/aa)</th>\n",
              "      <th></th>\n",
              "      <th></th>\n",
              "      <th></th>\n",
              "      <th></th>\n",
              "      <th></th>\n",
              "      <th></th>\n",
              "      <th></th>\n",
              "      <th></th>\n",
              "      <th></th>\n",
              "      <th></th>\n",
              "      <th></th>\n",
              "    </tr>\n",
              "  </thead>\n",
              "  <tbody>\n",
              "    <tr>\n",
              "      <th>2024-02-12</th>\n",
              "      <td>Desayuno</td>\n",
              "      <td>Carne de Res</td>\n",
              "      <td>0.135</td>\n",
              "      <td>0.0</td>\n",
              "      <td>4.62</td>\n",
              "      <td>21.91</td>\n",
              "      <td>57.0</td>\n",
              "      <td>https://www.fatsecret.com.mx/calorías-nutrició...</td>\n",
              "      <td>NaN</td>\n",
              "      <td>Matrícula:</td>\n",
              "      <td>A01736492</td>\n",
              "    </tr>\n",
              "    <tr>\n",
              "      <th>2024-02-12</th>\n",
              "      <td>Comida</td>\n",
              "      <td>Carne de Res</td>\n",
              "      <td>0.135</td>\n",
              "      <td>0.0</td>\n",
              "      <td>4.62</td>\n",
              "      <td>21.91</td>\n",
              "      <td>57.0</td>\n",
              "      <td>https://www.fatsecret.com.mx/calorías-nutrició...</td>\n",
              "      <td>NaN</td>\n",
              "      <td>Nombre:</td>\n",
              "      <td>Oscar Ali Morales Juárez</td>\n",
              "    </tr>\n",
              "    <tr>\n",
              "      <th>2024-02-12</th>\n",
              "      <td>Cena</td>\n",
              "      <td>Pechuga de Pollo</td>\n",
              "      <td>0.195</td>\n",
              "      <td>0.0</td>\n",
              "      <td>7.72</td>\n",
              "      <td>29.55</td>\n",
              "      <td>393.0</td>\n",
              "      <td>https://www.fatsecret.com.mx/calorías-nutrició...</td>\n",
              "      <td>NaN</td>\n",
              "      <td>NaN</td>\n",
              "      <td>NaN</td>\n",
              "    </tr>\n",
              "    <tr>\n",
              "      <th>2024-02-13</th>\n",
              "      <td>Desayuno</td>\n",
              "      <td>Carne de Res</td>\n",
              "      <td>0.135</td>\n",
              "      <td>0.0</td>\n",
              "      <td>4.62</td>\n",
              "      <td>21.91</td>\n",
              "      <td>57.0</td>\n",
              "      <td>https://www.fatsecret.com.mx/calorías-nutrició...</td>\n",
              "      <td>NaN</td>\n",
              "      <td>Momento de consumo:</td>\n",
              "      <td>Indicar el momento de consumo en la tabla</td>\n",
              "    </tr>\n",
              "    <tr>\n",
              "      <th>2024-02-13</th>\n",
              "      <td>Comida</td>\n",
              "      <td>Carne de Res</td>\n",
              "      <td>0.135</td>\n",
              "      <td>0.0</td>\n",
              "      <td>4.62</td>\n",
              "      <td>21.91</td>\n",
              "      <td>57.0</td>\n",
              "      <td>https://www.fatsecret.com.mx/calorías-nutrició...</td>\n",
              "      <td>NaN</td>\n",
              "      <td>NaN</td>\n",
              "      <td>Desayuno</td>\n",
              "    </tr>\n",
              "    <tr>\n",
              "      <th>...</th>\n",
              "      <td>...</td>\n",
              "      <td>...</td>\n",
              "      <td>...</td>\n",
              "      <td>...</td>\n",
              "      <td>...</td>\n",
              "      <td>...</td>\n",
              "      <td>...</td>\n",
              "      <td>...</td>\n",
              "      <td>...</td>\n",
              "      <td>...</td>\n",
              "      <td>...</td>\n",
              "    </tr>\n",
              "    <tr>\n",
              "      <th>NaT</th>\n",
              "      <td>Colacion</td>\n",
              "      <td>Salteado de tofu con verduras</td>\n",
              "      <td>450.000</td>\n",
              "      <td>30.0</td>\n",
              "      <td>20.00</td>\n",
              "      <td>25.00</td>\n",
              "      <td>325.0</td>\n",
              "      <td>NaN</td>\n",
              "      <td>NaN</td>\n",
              "      <td>NaN</td>\n",
              "      <td>NaN</td>\n",
              "    </tr>\n",
              "    <tr>\n",
              "      <th>NaT</th>\n",
              "      <td>Colacion</td>\n",
              "      <td>Pollo o pescado a la parrilla con arroz integr...</td>\n",
              "      <td>450.000</td>\n",
              "      <td>30.0</td>\n",
              "      <td>25.00</td>\n",
              "      <td>30.00</td>\n",
              "      <td>325.0</td>\n",
              "      <td>NaN</td>\n",
              "      <td>NaN</td>\n",
              "      <td>NaN</td>\n",
              "      <td>NaN</td>\n",
              "    </tr>\n",
              "    <tr>\n",
              "      <th>NaT</th>\n",
              "      <td>Desayuno</td>\n",
              "      <td>Salmón con quinoa y verduras asadas</td>\n",
              "      <td>150.000</td>\n",
              "      <td>25.0</td>\n",
              "      <td>25.00</td>\n",
              "      <td>30.00</td>\n",
              "      <td>375.0</td>\n",
              "      <td>NaN</td>\n",
              "      <td>NaN</td>\n",
              "      <td>NaN</td>\n",
              "      <td>NaN</td>\n",
              "    </tr>\n",
              "    <tr>\n",
              "      <th>NaT</th>\n",
              "      <td>Comida</td>\n",
              "      <td>Sopa de frijoles negros</td>\n",
              "      <td>150.000</td>\n",
              "      <td>25.0</td>\n",
              "      <td>15.00</td>\n",
              "      <td>20.00</td>\n",
              "      <td>200.0</td>\n",
              "      <td>NaN</td>\n",
              "      <td>NaN</td>\n",
              "      <td>NaN</td>\n",
              "      <td>NaN</td>\n",
              "    </tr>\n",
              "    <tr>\n",
              "      <th>NaT</th>\n",
              "      <td>Comida</td>\n",
              "      <td>Sopa de lentejas</td>\n",
              "      <td>250.000</td>\n",
              "      <td>15.0</td>\n",
              "      <td>10.00</td>\n",
              "      <td>20.00</td>\n",
              "      <td>200.0</td>\n",
              "      <td>NaN</td>\n",
              "      <td>NaN</td>\n",
              "      <td>NaN</td>\n",
              "      <td>NaN</td>\n",
              "    </tr>\n",
              "  </tbody>\n",
              "</table>\n",
              "<p>355 rows × 11 columns</p>\n",
              "</div>\n",
              "    <div class=\"colab-df-buttons\">\n",
              "\n",
              "  <div class=\"colab-df-container\">\n",
              "    <button class=\"colab-df-convert\" onclick=\"convertToInteractive('df-94cb2f9a-4d26-4c97-9881-9ca6f8ad9c67')\"\n",
              "            title=\"Convert this dataframe to an interactive table.\"\n",
              "            style=\"display:none;\">\n",
              "\n",
              "  <svg xmlns=\"http://www.w3.org/2000/svg\" height=\"24px\" viewBox=\"0 -960 960 960\">\n",
              "    <path d=\"M120-120v-720h720v720H120Zm60-500h600v-160H180v160Zm220 220h160v-160H400v160Zm0 220h160v-160H400v160ZM180-400h160v-160H180v160Zm440 0h160v-160H620v160ZM180-180h160v-160H180v160Zm440 0h160v-160H620v160Z\"/>\n",
              "  </svg>\n",
              "    </button>\n",
              "\n",
              "  <style>\n",
              "    .colab-df-container {\n",
              "      display:flex;\n",
              "      gap: 12px;\n",
              "    }\n",
              "\n",
              "    .colab-df-convert {\n",
              "      background-color: #E8F0FE;\n",
              "      border: none;\n",
              "      border-radius: 50%;\n",
              "      cursor: pointer;\n",
              "      display: none;\n",
              "      fill: #1967D2;\n",
              "      height: 32px;\n",
              "      padding: 0 0 0 0;\n",
              "      width: 32px;\n",
              "    }\n",
              "\n",
              "    .colab-df-convert:hover {\n",
              "      background-color: #E2EBFA;\n",
              "      box-shadow: 0px 1px 2px rgba(60, 64, 67, 0.3), 0px 1px 3px 1px rgba(60, 64, 67, 0.15);\n",
              "      fill: #174EA6;\n",
              "    }\n",
              "\n",
              "    .colab-df-buttons div {\n",
              "      margin-bottom: 4px;\n",
              "    }\n",
              "\n",
              "    [theme=dark] .colab-df-convert {\n",
              "      background-color: #3B4455;\n",
              "      fill: #D2E3FC;\n",
              "    }\n",
              "\n",
              "    [theme=dark] .colab-df-convert:hover {\n",
              "      background-color: #434B5C;\n",
              "      box-shadow: 0px 1px 3px 1px rgba(0, 0, 0, 0.15);\n",
              "      filter: drop-shadow(0px 1px 2px rgba(0, 0, 0, 0.3));\n",
              "      fill: #FFFFFF;\n",
              "    }\n",
              "  </style>\n",
              "\n",
              "    <script>\n",
              "      const buttonEl =\n",
              "        document.querySelector('#df-94cb2f9a-4d26-4c97-9881-9ca6f8ad9c67 button.colab-df-convert');\n",
              "      buttonEl.style.display =\n",
              "        google.colab.kernel.accessAllowed ? 'block' : 'none';\n",
              "\n",
              "      async function convertToInteractive(key) {\n",
              "        const element = document.querySelector('#df-94cb2f9a-4d26-4c97-9881-9ca6f8ad9c67');\n",
              "        const dataTable =\n",
              "          await google.colab.kernel.invokeFunction('convertToInteractive',\n",
              "                                                    [key], {});\n",
              "        if (!dataTable) return;\n",
              "\n",
              "        const docLinkHtml = 'Like what you see? Visit the ' +\n",
              "          '<a target=\"_blank\" href=https://colab.research.google.com/notebooks/data_table.ipynb>data table notebook</a>'\n",
              "          + ' to learn more about interactive tables.';\n",
              "        element.innerHTML = '';\n",
              "        dataTable['output_type'] = 'display_data';\n",
              "        await google.colab.output.renderOutput(dataTable, element);\n",
              "        const docLink = document.createElement('div');\n",
              "        docLink.innerHTML = docLinkHtml;\n",
              "        element.appendChild(docLink);\n",
              "      }\n",
              "    </script>\n",
              "  </div>\n",
              "\n",
              "\n",
              "<div id=\"df-ced6f389-e04b-4e20-9fda-ea48ee8c7843\">\n",
              "  <button class=\"colab-df-quickchart\" onclick=\"quickchart('df-ced6f389-e04b-4e20-9fda-ea48ee8c7843')\"\n",
              "            title=\"Suggest charts\"\n",
              "            style=\"display:none;\">\n",
              "\n",
              "<svg xmlns=\"http://www.w3.org/2000/svg\" height=\"24px\"viewBox=\"0 0 24 24\"\n",
              "     width=\"24px\">\n",
              "    <g>\n",
              "        <path d=\"M19 3H5c-1.1 0-2 .9-2 2v14c0 1.1.9 2 2 2h14c1.1 0 2-.9 2-2V5c0-1.1-.9-2-2-2zM9 17H7v-7h2v7zm4 0h-2V7h2v10zm4 0h-2v-4h2v4z\"/>\n",
              "    </g>\n",
              "</svg>\n",
              "  </button>\n",
              "\n",
              "<style>\n",
              "  .colab-df-quickchart {\n",
              "      --bg-color: #E8F0FE;\n",
              "      --fill-color: #1967D2;\n",
              "      --hover-bg-color: #E2EBFA;\n",
              "      --hover-fill-color: #174EA6;\n",
              "      --disabled-fill-color: #AAA;\n",
              "      --disabled-bg-color: #DDD;\n",
              "  }\n",
              "\n",
              "  [theme=dark] .colab-df-quickchart {\n",
              "      --bg-color: #3B4455;\n",
              "      --fill-color: #D2E3FC;\n",
              "      --hover-bg-color: #434B5C;\n",
              "      --hover-fill-color: #FFFFFF;\n",
              "      --disabled-bg-color: #3B4455;\n",
              "      --disabled-fill-color: #666;\n",
              "  }\n",
              "\n",
              "  .colab-df-quickchart {\n",
              "    background-color: var(--bg-color);\n",
              "    border: none;\n",
              "    border-radius: 50%;\n",
              "    cursor: pointer;\n",
              "    display: none;\n",
              "    fill: var(--fill-color);\n",
              "    height: 32px;\n",
              "    padding: 0;\n",
              "    width: 32px;\n",
              "  }\n",
              "\n",
              "  .colab-df-quickchart:hover {\n",
              "    background-color: var(--hover-bg-color);\n",
              "    box-shadow: 0 1px 2px rgba(60, 64, 67, 0.3), 0 1px 3px 1px rgba(60, 64, 67, 0.15);\n",
              "    fill: var(--button-hover-fill-color);\n",
              "  }\n",
              "\n",
              "  .colab-df-quickchart-complete:disabled,\n",
              "  .colab-df-quickchart-complete:disabled:hover {\n",
              "    background-color: var(--disabled-bg-color);\n",
              "    fill: var(--disabled-fill-color);\n",
              "    box-shadow: none;\n",
              "  }\n",
              "\n",
              "  .colab-df-spinner {\n",
              "    border: 2px solid var(--fill-color);\n",
              "    border-color: transparent;\n",
              "    border-bottom-color: var(--fill-color);\n",
              "    animation:\n",
              "      spin 1s steps(1) infinite;\n",
              "  }\n",
              "\n",
              "  @keyframes spin {\n",
              "    0% {\n",
              "      border-color: transparent;\n",
              "      border-bottom-color: var(--fill-color);\n",
              "      border-left-color: var(--fill-color);\n",
              "    }\n",
              "    20% {\n",
              "      border-color: transparent;\n",
              "      border-left-color: var(--fill-color);\n",
              "      border-top-color: var(--fill-color);\n",
              "    }\n",
              "    30% {\n",
              "      border-color: transparent;\n",
              "      border-left-color: var(--fill-color);\n",
              "      border-top-color: var(--fill-color);\n",
              "      border-right-color: var(--fill-color);\n",
              "    }\n",
              "    40% {\n",
              "      border-color: transparent;\n",
              "      border-right-color: var(--fill-color);\n",
              "      border-top-color: var(--fill-color);\n",
              "    }\n",
              "    60% {\n",
              "      border-color: transparent;\n",
              "      border-right-color: var(--fill-color);\n",
              "    }\n",
              "    80% {\n",
              "      border-color: transparent;\n",
              "      border-right-color: var(--fill-color);\n",
              "      border-bottom-color: var(--fill-color);\n",
              "    }\n",
              "    90% {\n",
              "      border-color: transparent;\n",
              "      border-bottom-color: var(--fill-color);\n",
              "    }\n",
              "  }\n",
              "</style>\n",
              "\n",
              "  <script>\n",
              "    async function quickchart(key) {\n",
              "      const quickchartButtonEl =\n",
              "        document.querySelector('#' + key + ' button');\n",
              "      quickchartButtonEl.disabled = true;  // To prevent multiple clicks.\n",
              "      quickchartButtonEl.classList.add('colab-df-spinner');\n",
              "      try {\n",
              "        const charts = await google.colab.kernel.invokeFunction(\n",
              "            'suggestCharts', [key], {});\n",
              "      } catch (error) {\n",
              "        console.error('Error during call to suggestCharts:', error);\n",
              "      }\n",
              "      quickchartButtonEl.classList.remove('colab-df-spinner');\n",
              "      quickchartButtonEl.classList.add('colab-df-quickchart-complete');\n",
              "    }\n",
              "    (() => {\n",
              "      let quickchartButtonEl =\n",
              "        document.querySelector('#df-ced6f389-e04b-4e20-9fda-ea48ee8c7843 button');\n",
              "      quickchartButtonEl.style.display =\n",
              "        google.colab.kernel.accessAllowed ? 'block' : 'none';\n",
              "    })();\n",
              "  </script>\n",
              "</div>\n",
              "    </div>\n",
              "  </div>\n"
            ],
            "application/vnd.google.colaboratory.intrinsic+json": {
              "type": "dataframe",
              "variable_name": "registro",
              "summary": "{\n  \"name\": \"registro\",\n  \"rows\": 355,\n  \"fields\": [\n    {\n      \"column\": \"Fecha (dd/mm/aa)\",\n      \"properties\": {\n        \"dtype\": \"date\",\n        \"min\": \"2024-02-12 00:00:00\",\n        \"max\": \"2024-04-03 00:00:00\",\n        \"num_unique_values\": 26,\n        \"samples\": [\n          \"2024-02-20 00:00:00\",\n          \"2024-02-28 00:00:00\",\n          \"2024-02-12 00:00:00\"\n        ],\n        \"semantic_type\": \"\",\n        \"description\": \"\"\n      }\n    },\n    {\n      \"column\": \"Momento\",\n      \"properties\": {\n        \"dtype\": \"category\",\n        \"num_unique_values\": 6,\n        \"samples\": [\n          \"Desayuno\",\n          \"Comida\",\n          \"Colacion\"\n        ],\n        \"semantic_type\": \"\",\n        \"description\": \"\"\n      }\n    },\n    {\n      \"column\": \"Nombre alimento\",\n      \"properties\": {\n        \"dtype\": \"category\",\n        \"num_unique_values\": 146,\n        \"samples\": [\n          \"Milanesa de Pollo\",\n          \"Parfait de yogur con frutas y granola\",\n          \"Yoghurt con Fruta\"\n        ],\n        \"semantic_type\": \"\",\n        \"description\": \"\"\n      }\n    },\n    {\n      \"column\": \"Calor\\u00edas (kcal)\",\n      \"properties\": {\n        \"dtype\": \"number\",\n        \"std\": 178.33989822502255,\n        \"min\": 0.0,\n        \"max\": 675.0,\n        \"num_unique_values\": 113,\n        \"samples\": [\n          0.104,\n          0.426,\n          0.441\n        ],\n        \"semantic_type\": \"\",\n        \"description\": \"\"\n      }\n    },\n    {\n      \"column\": \"Carbohidratos (g)\",\n      \"properties\": {\n        \"dtype\": \"number\",\n        \"std\": 27.287536065094983,\n        \"min\": 0.0,\n        \"max\": 152.8,\n        \"num_unique_values\": 81,\n        \"samples\": [\n          1.96,\n          0.0,\n          4.6\n        ],\n        \"semantic_type\": \"\",\n        \"description\": \"\"\n      }\n    },\n    {\n      \"column\": \"L\\u00edpidos/grasas (g)\",\n      \"properties\": {\n        \"dtype\": \"number\",\n        \"std\": 18.13494998847768,\n        \"min\": 0.0,\n        \"max\": 180.0,\n        \"num_unique_values\": 70,\n        \"samples\": [\n          11.86,\n          4.62,\n          14.7\n        ],\n        \"semantic_type\": \"\",\n        \"description\": \"\"\n      }\n    },\n    {\n      \"column\": \"Prote\\u00edna (g)\",\n      \"properties\": {\n        \"dtype\": \"number\",\n        \"std\": 38.98833614653813,\n        \"min\": 0.0,\n        \"max\": 480.0,\n        \"num_unique_values\": 74,\n        \"samples\": [\n          31.24,\n          15.0,\n          3.29\n        ],\n        \"semantic_type\": \"\",\n        \"description\": \"\"\n      }\n    },\n    {\n      \"column\": \"Sodio (mg)\",\n      \"properties\": {\n        \"dtype\": \"number\",\n        \"std\": 294.93978097908786,\n        \"min\": 0.0,\n        \"max\": 2294.0,\n        \"num_unique_values\": 89,\n        \"samples\": [\n          0.343,\n          1.14,\n          211.0\n        ],\n        \"semantic_type\": \"\",\n        \"description\": \"\"\n      }\n    },\n    {\n      \"column\": \"Fuente\",\n      \"properties\": {\n        \"dtype\": \"category\",\n        \"num_unique_values\": 43,\n        \"samples\": [\n          \"https://www.fatsecret.com.mx/calor\\u00edas-nutrici\\u00f3n/gen\\u00e9rico/espaguetis-con-salsa-de-tomate-sin-carne\",\n          \"https://www.fatsecret.com.mx/calor\\u00edas-nutrici\\u00f3n/gen\\u00e9rico/galletas-de-chocolate\",\n          \"https://www.fatsecret.com.mx/calor\\u00edas-nutrici\\u00f3n/sello-rojo/avena-con-leche/100g\"\n        ],\n        \"semantic_type\": \"\",\n        \"description\": \"\"\n      }\n    },\n    {\n      \"column\": \"Unnamed: 9\",\n      \"properties\": {\n        \"dtype\": \"number\",\n        \"std\": null,\n        \"min\": null,\n        \"max\": null,\n        \"num_unique_values\": 0,\n        \"samples\": [],\n        \"semantic_type\": \"\",\n        \"description\": \"\"\n      }\n    },\n    {\n      \"column\": \"Unnamed: 10\",\n      \"properties\": {\n        \"dtype\": \"category\",\n        \"num_unique_values\": 7,\n        \"samples\": [],\n        \"semantic_type\": \"\",\n        \"description\": \"\"\n      }\n    },\n    {\n      \"column\": \"Unnamed: 11\",\n      \"properties\": {\n        \"dtype\": \"category\",\n        \"num_unique_values\": 13,\n        \"samples\": [],\n        \"semantic_type\": \"\",\n        \"description\": \"\"\n      }\n    }\n  ]\n}"
            }
          },
          "metadata": {},
          "execution_count": 78
        }
      ],
      "source": [
        "#Importamos las librerías requeridas\n",
        "import pandas as pd\n",
        "registro = pd.read_excel('A01736492_Actividad2_Registro.xlsx', index_col=0)\n",
        "registro"
      ]
    },
    {
      "cell_type": "markdown",
      "source": [
        "2.- Determina cuáles son tus datos existentes, datos adquiridos y datos adicionales. R.- Como datos existentes son el nombre de los alimentos y las fechas, ya que estas son decididas y seleccionadas por mi mismo. Mientras que las adquiridas, son todos los datos cuantitativos ya que estos son medibles y comprobables dentro de bases de datos más amplias. Finalmente, los adicionales son aquellos que no tienen mayor importancia en la base, mencionando el link como la más destacable."
      ],
      "metadata": {
        "id": "8p-tNAs0uUsr"
      }
    },
    {
      "cell_type": "markdown",
      "source": [
        "3.- De tus datos adquiridos responde a las siguientes preguntas:"
      ],
      "metadata": {
        "id": "9WlrHk45u864"
      }
    },
    {
      "cell_type": "markdown",
      "source": [
        "*¿Cuántos datos hay en tu DataFrame distribuidos en filas y columnas?\n",
        "R.-"
      ],
      "metadata": {
        "id": "xAOgCjSeZdCD"
      }
    },
    {
      "cell_type": "code",
      "source": [
        "# Obtener el número de filas y columnas\n",
        "forma=registro.shape\n",
        "forma"
      ],
      "metadata": {
        "colab": {
          "base_uri": "https://localhost:8080/"
        },
        "id": "fUhvjtYTcU9k",
        "outputId": "6f1cca4b-caac-42da-b143-2bc690cceca5"
      },
      "execution_count": 79,
      "outputs": [
        {
          "output_type": "execute_result",
          "data": {
            "text/plain": [
              "(355, 11)"
            ]
          },
          "metadata": {},
          "execution_count": 79
        }
      ]
    },
    {
      "cell_type": "code",
      "source": [
        "print(f\"Forma del DataFrame: {forma}\")\n",
        "print(f\"Número de filas: {forma[0]}\")\n",
        "print(f\"Número de columnas: {forma[1]}\")"
      ],
      "metadata": {
        "colab": {
          "base_uri": "https://localhost:8080/"
        },
        "id": "cxn_l4pmdwrP",
        "outputId": "6c10b787-4ff5-44cb-863c-d0c8e3c6d38b"
      },
      "execution_count": 80,
      "outputs": [
        {
          "output_type": "stream",
          "name": "stdout",
          "text": [
            "Forma del DataFrame: (355, 11)\n",
            "Número de filas: 355\n",
            "Número de columnas: 11\n"
          ]
        }
      ]
    },
    {
      "cell_type": "markdown",
      "source": [
        "*¿Qué tipos de datos se analizarán? R.-"
      ],
      "metadata": {
        "id": "pm5w24hBd5al"
      }
    },
    {
      "cell_type": "code",
      "source": [
        "registro.dtypes"
      ],
      "metadata": {
        "colab": {
          "base_uri": "https://localhost:8080/"
        },
        "id": "KY7taHl7d_BB",
        "outputId": "d6ae408c-24b6-49cb-8657-9225d554e18d"
      },
      "execution_count": 81,
      "outputs": [
        {
          "output_type": "execute_result",
          "data": {
            "text/plain": [
              "Momento                object\n",
              "Nombre alimento        object\n",
              "Calorías (kcal)       float64\n",
              "Carbohidratos (g)     float64\n",
              "Lípidos/grasas (g)    float64\n",
              "Proteína (g)          float64\n",
              "Sodio (mg)            float64\n",
              "Fuente                 object\n",
              "Unnamed: 9            float64\n",
              "Unnamed: 10            object\n",
              "Unnamed: 11            object\n",
              "dtype: object"
            ]
          },
          "metadata": {},
          "execution_count": 81
        }
      ]
    },
    {
      "cell_type": "markdown",
      "source": [
        "*¿Cuáles son los nombres de los atributos (columnas) de tu base de datos?"
      ],
      "metadata": {
        "id": "GJaiiGw9eDEh"
      }
    },
    {
      "cell_type": "code",
      "source": [
        "registro.columns"
      ],
      "metadata": {
        "colab": {
          "base_uri": "https://localhost:8080/"
        },
        "id": "AoCVTQwDeGZp",
        "outputId": "12a65de7-5636-4da6-c084-321dbfd719e5"
      },
      "execution_count": 82,
      "outputs": [
        {
          "output_type": "execute_result",
          "data": {
            "text/plain": [
              "Index(['Momento', 'Nombre alimento', 'Calorías (kcal)', 'Carbohidratos (g)',\n",
              "       'Lípidos/grasas (g)', 'Proteína (g)', 'Sodio (mg)', 'Fuente',\n",
              "       'Unnamed: 9', 'Unnamed: 10', 'Unnamed: 11'],\n",
              "      dtype='object')"
            ]
          },
          "metadata": {},
          "execution_count": 82
        }
      ]
    },
    {
      "cell_type": "markdown",
      "source": [
        "*Si consederas dificiles de tratar los nombres de los atributos puedes renombrarlas\n"
      ],
      "metadata": {
        "id": "mGNkHJOteS8z"
      }
    },
    {
      "cell_type": "code",
      "source": [
        "registro=registro.rename(columns={\"Fecha (dd/mm/aa)\":\"Fecha\"})\n",
        "registro"
      ],
      "metadata": {
        "id": "qxvguxMMoNdm",
        "outputId": "73bf2464-dc4c-4040-c37c-cfbfe4ef9cb1",
        "colab": {
          "base_uri": "https://localhost:8080/",
          "height": 611
        }
      },
      "execution_count": 83,
      "outputs": [
        {
          "output_type": "execute_result",
          "data": {
            "text/plain": [
              "                   Momento                                    Nombre alimento  \\\n",
              "Fecha (dd/mm/aa)                                                                \n",
              "2024-02-12        Desayuno                                       Carne de Res   \n",
              "2024-02-12          Comida                                       Carne de Res   \n",
              "2024-02-12            Cena                                   Pechuga de Pollo   \n",
              "2024-02-13        Desayuno                                       Carne de Res   \n",
              "2024-02-13          Comida                                       Carne de Res   \n",
              "...                    ...                                                ...   \n",
              "NaT               Colacion                      Salteado de tofu con verduras   \n",
              "NaT               Colacion  Pollo o pescado a la parrilla con arroz integr...   \n",
              "NaT               Desayuno                Salmón con quinoa y verduras asadas   \n",
              "NaT                 Comida                            Sopa de frijoles negros   \n",
              "NaT                 Comida                                   Sopa de lentejas   \n",
              "\n",
              "                  Calorías (kcal)  Carbohidratos (g)  Lípidos/grasas (g)  \\\n",
              "Fecha (dd/mm/aa)                                                           \n",
              "2024-02-12                  0.135                0.0                4.62   \n",
              "2024-02-12                  0.135                0.0                4.62   \n",
              "2024-02-12                  0.195                0.0                7.72   \n",
              "2024-02-13                  0.135                0.0                4.62   \n",
              "2024-02-13                  0.135                0.0                4.62   \n",
              "...                           ...                ...                 ...   \n",
              "NaT                       450.000               30.0               20.00   \n",
              "NaT                       450.000               30.0               25.00   \n",
              "NaT                       150.000               25.0               25.00   \n",
              "NaT                       150.000               25.0               15.00   \n",
              "NaT                       250.000               15.0               10.00   \n",
              "\n",
              "                  Proteína (g)  Sodio (mg)  \\\n",
              "Fecha (dd/mm/aa)                             \n",
              "2024-02-12               21.91        57.0   \n",
              "2024-02-12               21.91        57.0   \n",
              "2024-02-12               29.55       393.0   \n",
              "2024-02-13               21.91        57.0   \n",
              "2024-02-13               21.91        57.0   \n",
              "...                        ...         ...   \n",
              "NaT                      25.00       325.0   \n",
              "NaT                      30.00       325.0   \n",
              "NaT                      30.00       375.0   \n",
              "NaT                      20.00       200.0   \n",
              "NaT                      20.00       200.0   \n",
              "\n",
              "                                                             Fuente  \\\n",
              "Fecha (dd/mm/aa)                                                      \n",
              "2024-02-12        https://www.fatsecret.com.mx/calorías-nutrició...   \n",
              "2024-02-12        https://www.fatsecret.com.mx/calorías-nutrició...   \n",
              "2024-02-12        https://www.fatsecret.com.mx/calorías-nutrició...   \n",
              "2024-02-13        https://www.fatsecret.com.mx/calorías-nutrició...   \n",
              "2024-02-13        https://www.fatsecret.com.mx/calorías-nutrició...   \n",
              "...                                                             ...   \n",
              "NaT                                                             NaN   \n",
              "NaT                                                             NaN   \n",
              "NaT                                                             NaN   \n",
              "NaT                                                             NaN   \n",
              "NaT                                                             NaN   \n",
              "\n",
              "                  Unnamed: 9          Unnamed: 10  \\\n",
              "Fecha (dd/mm/aa)                                    \n",
              "2024-02-12               NaN           Matrícula:   \n",
              "2024-02-12               NaN              Nombre:   \n",
              "2024-02-12               NaN                  NaN   \n",
              "2024-02-13               NaN  Momento de consumo:   \n",
              "2024-02-13               NaN                  NaN   \n",
              "...                      ...                  ...   \n",
              "NaT                      NaN                  NaN   \n",
              "NaT                      NaN                  NaN   \n",
              "NaT                      NaN                  NaN   \n",
              "NaT                      NaN                  NaN   \n",
              "NaT                      NaN                  NaN   \n",
              "\n",
              "                                                Unnamed: 11  \n",
              "Fecha (dd/mm/aa)                                             \n",
              "2024-02-12                                        A01736492  \n",
              "2024-02-12                         Oscar Ali Morales Juárez  \n",
              "2024-02-12                                              NaN  \n",
              "2024-02-13        Indicar el momento de consumo en la tabla  \n",
              "2024-02-13                                         Desayuno  \n",
              "...                                                     ...  \n",
              "NaT                                                     NaN  \n",
              "NaT                                                     NaN  \n",
              "NaT                                                     NaN  \n",
              "NaT                                                     NaN  \n",
              "NaT                                                     NaN  \n",
              "\n",
              "[355 rows x 11 columns]"
            ],
            "text/html": [
              "\n",
              "  <div id=\"df-332070c9-3088-48aa-b27d-a14b57b8c281\" class=\"colab-df-container\">\n",
              "    <div>\n",
              "<style scoped>\n",
              "    .dataframe tbody tr th:only-of-type {\n",
              "        vertical-align: middle;\n",
              "    }\n",
              "\n",
              "    .dataframe tbody tr th {\n",
              "        vertical-align: top;\n",
              "    }\n",
              "\n",
              "    .dataframe thead th {\n",
              "        text-align: right;\n",
              "    }\n",
              "</style>\n",
              "<table border=\"1\" class=\"dataframe\">\n",
              "  <thead>\n",
              "    <tr style=\"text-align: right;\">\n",
              "      <th></th>\n",
              "      <th>Momento</th>\n",
              "      <th>Nombre alimento</th>\n",
              "      <th>Calorías (kcal)</th>\n",
              "      <th>Carbohidratos (g)</th>\n",
              "      <th>Lípidos/grasas (g)</th>\n",
              "      <th>Proteína (g)</th>\n",
              "      <th>Sodio (mg)</th>\n",
              "      <th>Fuente</th>\n",
              "      <th>Unnamed: 9</th>\n",
              "      <th>Unnamed: 10</th>\n",
              "      <th>Unnamed: 11</th>\n",
              "    </tr>\n",
              "    <tr>\n",
              "      <th>Fecha (dd/mm/aa)</th>\n",
              "      <th></th>\n",
              "      <th></th>\n",
              "      <th></th>\n",
              "      <th></th>\n",
              "      <th></th>\n",
              "      <th></th>\n",
              "      <th></th>\n",
              "      <th></th>\n",
              "      <th></th>\n",
              "      <th></th>\n",
              "      <th></th>\n",
              "    </tr>\n",
              "  </thead>\n",
              "  <tbody>\n",
              "    <tr>\n",
              "      <th>2024-02-12</th>\n",
              "      <td>Desayuno</td>\n",
              "      <td>Carne de Res</td>\n",
              "      <td>0.135</td>\n",
              "      <td>0.0</td>\n",
              "      <td>4.62</td>\n",
              "      <td>21.91</td>\n",
              "      <td>57.0</td>\n",
              "      <td>https://www.fatsecret.com.mx/calorías-nutrició...</td>\n",
              "      <td>NaN</td>\n",
              "      <td>Matrícula:</td>\n",
              "      <td>A01736492</td>\n",
              "    </tr>\n",
              "    <tr>\n",
              "      <th>2024-02-12</th>\n",
              "      <td>Comida</td>\n",
              "      <td>Carne de Res</td>\n",
              "      <td>0.135</td>\n",
              "      <td>0.0</td>\n",
              "      <td>4.62</td>\n",
              "      <td>21.91</td>\n",
              "      <td>57.0</td>\n",
              "      <td>https://www.fatsecret.com.mx/calorías-nutrició...</td>\n",
              "      <td>NaN</td>\n",
              "      <td>Nombre:</td>\n",
              "      <td>Oscar Ali Morales Juárez</td>\n",
              "    </tr>\n",
              "    <tr>\n",
              "      <th>2024-02-12</th>\n",
              "      <td>Cena</td>\n",
              "      <td>Pechuga de Pollo</td>\n",
              "      <td>0.195</td>\n",
              "      <td>0.0</td>\n",
              "      <td>7.72</td>\n",
              "      <td>29.55</td>\n",
              "      <td>393.0</td>\n",
              "      <td>https://www.fatsecret.com.mx/calorías-nutrició...</td>\n",
              "      <td>NaN</td>\n",
              "      <td>NaN</td>\n",
              "      <td>NaN</td>\n",
              "    </tr>\n",
              "    <tr>\n",
              "      <th>2024-02-13</th>\n",
              "      <td>Desayuno</td>\n",
              "      <td>Carne de Res</td>\n",
              "      <td>0.135</td>\n",
              "      <td>0.0</td>\n",
              "      <td>4.62</td>\n",
              "      <td>21.91</td>\n",
              "      <td>57.0</td>\n",
              "      <td>https://www.fatsecret.com.mx/calorías-nutrició...</td>\n",
              "      <td>NaN</td>\n",
              "      <td>Momento de consumo:</td>\n",
              "      <td>Indicar el momento de consumo en la tabla</td>\n",
              "    </tr>\n",
              "    <tr>\n",
              "      <th>2024-02-13</th>\n",
              "      <td>Comida</td>\n",
              "      <td>Carne de Res</td>\n",
              "      <td>0.135</td>\n",
              "      <td>0.0</td>\n",
              "      <td>4.62</td>\n",
              "      <td>21.91</td>\n",
              "      <td>57.0</td>\n",
              "      <td>https://www.fatsecret.com.mx/calorías-nutrició...</td>\n",
              "      <td>NaN</td>\n",
              "      <td>NaN</td>\n",
              "      <td>Desayuno</td>\n",
              "    </tr>\n",
              "    <tr>\n",
              "      <th>...</th>\n",
              "      <td>...</td>\n",
              "      <td>...</td>\n",
              "      <td>...</td>\n",
              "      <td>...</td>\n",
              "      <td>...</td>\n",
              "      <td>...</td>\n",
              "      <td>...</td>\n",
              "      <td>...</td>\n",
              "      <td>...</td>\n",
              "      <td>...</td>\n",
              "      <td>...</td>\n",
              "    </tr>\n",
              "    <tr>\n",
              "      <th>NaT</th>\n",
              "      <td>Colacion</td>\n",
              "      <td>Salteado de tofu con verduras</td>\n",
              "      <td>450.000</td>\n",
              "      <td>30.0</td>\n",
              "      <td>20.00</td>\n",
              "      <td>25.00</td>\n",
              "      <td>325.0</td>\n",
              "      <td>NaN</td>\n",
              "      <td>NaN</td>\n",
              "      <td>NaN</td>\n",
              "      <td>NaN</td>\n",
              "    </tr>\n",
              "    <tr>\n",
              "      <th>NaT</th>\n",
              "      <td>Colacion</td>\n",
              "      <td>Pollo o pescado a la parrilla con arroz integr...</td>\n",
              "      <td>450.000</td>\n",
              "      <td>30.0</td>\n",
              "      <td>25.00</td>\n",
              "      <td>30.00</td>\n",
              "      <td>325.0</td>\n",
              "      <td>NaN</td>\n",
              "      <td>NaN</td>\n",
              "      <td>NaN</td>\n",
              "      <td>NaN</td>\n",
              "    </tr>\n",
              "    <tr>\n",
              "      <th>NaT</th>\n",
              "      <td>Desayuno</td>\n",
              "      <td>Salmón con quinoa y verduras asadas</td>\n",
              "      <td>150.000</td>\n",
              "      <td>25.0</td>\n",
              "      <td>25.00</td>\n",
              "      <td>30.00</td>\n",
              "      <td>375.0</td>\n",
              "      <td>NaN</td>\n",
              "      <td>NaN</td>\n",
              "      <td>NaN</td>\n",
              "      <td>NaN</td>\n",
              "    </tr>\n",
              "    <tr>\n",
              "      <th>NaT</th>\n",
              "      <td>Comida</td>\n",
              "      <td>Sopa de frijoles negros</td>\n",
              "      <td>150.000</td>\n",
              "      <td>25.0</td>\n",
              "      <td>15.00</td>\n",
              "      <td>20.00</td>\n",
              "      <td>200.0</td>\n",
              "      <td>NaN</td>\n",
              "      <td>NaN</td>\n",
              "      <td>NaN</td>\n",
              "      <td>NaN</td>\n",
              "    </tr>\n",
              "    <tr>\n",
              "      <th>NaT</th>\n",
              "      <td>Comida</td>\n",
              "      <td>Sopa de lentejas</td>\n",
              "      <td>250.000</td>\n",
              "      <td>15.0</td>\n",
              "      <td>10.00</td>\n",
              "      <td>20.00</td>\n",
              "      <td>200.0</td>\n",
              "      <td>NaN</td>\n",
              "      <td>NaN</td>\n",
              "      <td>NaN</td>\n",
              "      <td>NaN</td>\n",
              "    </tr>\n",
              "  </tbody>\n",
              "</table>\n",
              "<p>355 rows × 11 columns</p>\n",
              "</div>\n",
              "    <div class=\"colab-df-buttons\">\n",
              "\n",
              "  <div class=\"colab-df-container\">\n",
              "    <button class=\"colab-df-convert\" onclick=\"convertToInteractive('df-332070c9-3088-48aa-b27d-a14b57b8c281')\"\n",
              "            title=\"Convert this dataframe to an interactive table.\"\n",
              "            style=\"display:none;\">\n",
              "\n",
              "  <svg xmlns=\"http://www.w3.org/2000/svg\" height=\"24px\" viewBox=\"0 -960 960 960\">\n",
              "    <path d=\"M120-120v-720h720v720H120Zm60-500h600v-160H180v160Zm220 220h160v-160H400v160Zm0 220h160v-160H400v160ZM180-400h160v-160H180v160Zm440 0h160v-160H620v160ZM180-180h160v-160H180v160Zm440 0h160v-160H620v160Z\"/>\n",
              "  </svg>\n",
              "    </button>\n",
              "\n",
              "  <style>\n",
              "    .colab-df-container {\n",
              "      display:flex;\n",
              "      gap: 12px;\n",
              "    }\n",
              "\n",
              "    .colab-df-convert {\n",
              "      background-color: #E8F0FE;\n",
              "      border: none;\n",
              "      border-radius: 50%;\n",
              "      cursor: pointer;\n",
              "      display: none;\n",
              "      fill: #1967D2;\n",
              "      height: 32px;\n",
              "      padding: 0 0 0 0;\n",
              "      width: 32px;\n",
              "    }\n",
              "\n",
              "    .colab-df-convert:hover {\n",
              "      background-color: #E2EBFA;\n",
              "      box-shadow: 0px 1px 2px rgba(60, 64, 67, 0.3), 0px 1px 3px 1px rgba(60, 64, 67, 0.15);\n",
              "      fill: #174EA6;\n",
              "    }\n",
              "\n",
              "    .colab-df-buttons div {\n",
              "      margin-bottom: 4px;\n",
              "    }\n",
              "\n",
              "    [theme=dark] .colab-df-convert {\n",
              "      background-color: #3B4455;\n",
              "      fill: #D2E3FC;\n",
              "    }\n",
              "\n",
              "    [theme=dark] .colab-df-convert:hover {\n",
              "      background-color: #434B5C;\n",
              "      box-shadow: 0px 1px 3px 1px rgba(0, 0, 0, 0.15);\n",
              "      filter: drop-shadow(0px 1px 2px rgba(0, 0, 0, 0.3));\n",
              "      fill: #FFFFFF;\n",
              "    }\n",
              "  </style>\n",
              "\n",
              "    <script>\n",
              "      const buttonEl =\n",
              "        document.querySelector('#df-332070c9-3088-48aa-b27d-a14b57b8c281 button.colab-df-convert');\n",
              "      buttonEl.style.display =\n",
              "        google.colab.kernel.accessAllowed ? 'block' : 'none';\n",
              "\n",
              "      async function convertToInteractive(key) {\n",
              "        const element = document.querySelector('#df-332070c9-3088-48aa-b27d-a14b57b8c281');\n",
              "        const dataTable =\n",
              "          await google.colab.kernel.invokeFunction('convertToInteractive',\n",
              "                                                    [key], {});\n",
              "        if (!dataTable) return;\n",
              "\n",
              "        const docLinkHtml = 'Like what you see? Visit the ' +\n",
              "          '<a target=\"_blank\" href=https://colab.research.google.com/notebooks/data_table.ipynb>data table notebook</a>'\n",
              "          + ' to learn more about interactive tables.';\n",
              "        element.innerHTML = '';\n",
              "        dataTable['output_type'] = 'display_data';\n",
              "        await google.colab.output.renderOutput(dataTable, element);\n",
              "        const docLink = document.createElement('div');\n",
              "        docLink.innerHTML = docLinkHtml;\n",
              "        element.appendChild(docLink);\n",
              "      }\n",
              "    </script>\n",
              "  </div>\n",
              "\n",
              "\n",
              "<div id=\"df-46ebd193-3ad0-4734-b76b-972f45ab2c98\">\n",
              "  <button class=\"colab-df-quickchart\" onclick=\"quickchart('df-46ebd193-3ad0-4734-b76b-972f45ab2c98')\"\n",
              "            title=\"Suggest charts\"\n",
              "            style=\"display:none;\">\n",
              "\n",
              "<svg xmlns=\"http://www.w3.org/2000/svg\" height=\"24px\"viewBox=\"0 0 24 24\"\n",
              "     width=\"24px\">\n",
              "    <g>\n",
              "        <path d=\"M19 3H5c-1.1 0-2 .9-2 2v14c0 1.1.9 2 2 2h14c1.1 0 2-.9 2-2V5c0-1.1-.9-2-2-2zM9 17H7v-7h2v7zm4 0h-2V7h2v10zm4 0h-2v-4h2v4z\"/>\n",
              "    </g>\n",
              "</svg>\n",
              "  </button>\n",
              "\n",
              "<style>\n",
              "  .colab-df-quickchart {\n",
              "      --bg-color: #E8F0FE;\n",
              "      --fill-color: #1967D2;\n",
              "      --hover-bg-color: #E2EBFA;\n",
              "      --hover-fill-color: #174EA6;\n",
              "      --disabled-fill-color: #AAA;\n",
              "      --disabled-bg-color: #DDD;\n",
              "  }\n",
              "\n",
              "  [theme=dark] .colab-df-quickchart {\n",
              "      --bg-color: #3B4455;\n",
              "      --fill-color: #D2E3FC;\n",
              "      --hover-bg-color: #434B5C;\n",
              "      --hover-fill-color: #FFFFFF;\n",
              "      --disabled-bg-color: #3B4455;\n",
              "      --disabled-fill-color: #666;\n",
              "  }\n",
              "\n",
              "  .colab-df-quickchart {\n",
              "    background-color: var(--bg-color);\n",
              "    border: none;\n",
              "    border-radius: 50%;\n",
              "    cursor: pointer;\n",
              "    display: none;\n",
              "    fill: var(--fill-color);\n",
              "    height: 32px;\n",
              "    padding: 0;\n",
              "    width: 32px;\n",
              "  }\n",
              "\n",
              "  .colab-df-quickchart:hover {\n",
              "    background-color: var(--hover-bg-color);\n",
              "    box-shadow: 0 1px 2px rgba(60, 64, 67, 0.3), 0 1px 3px 1px rgba(60, 64, 67, 0.15);\n",
              "    fill: var(--button-hover-fill-color);\n",
              "  }\n",
              "\n",
              "  .colab-df-quickchart-complete:disabled,\n",
              "  .colab-df-quickchart-complete:disabled:hover {\n",
              "    background-color: var(--disabled-bg-color);\n",
              "    fill: var(--disabled-fill-color);\n",
              "    box-shadow: none;\n",
              "  }\n",
              "\n",
              "  .colab-df-spinner {\n",
              "    border: 2px solid var(--fill-color);\n",
              "    border-color: transparent;\n",
              "    border-bottom-color: var(--fill-color);\n",
              "    animation:\n",
              "      spin 1s steps(1) infinite;\n",
              "  }\n",
              "\n",
              "  @keyframes spin {\n",
              "    0% {\n",
              "      border-color: transparent;\n",
              "      border-bottom-color: var(--fill-color);\n",
              "      border-left-color: var(--fill-color);\n",
              "    }\n",
              "    20% {\n",
              "      border-color: transparent;\n",
              "      border-left-color: var(--fill-color);\n",
              "      border-top-color: var(--fill-color);\n",
              "    }\n",
              "    30% {\n",
              "      border-color: transparent;\n",
              "      border-left-color: var(--fill-color);\n",
              "      border-top-color: var(--fill-color);\n",
              "      border-right-color: var(--fill-color);\n",
              "    }\n",
              "    40% {\n",
              "      border-color: transparent;\n",
              "      border-right-color: var(--fill-color);\n",
              "      border-top-color: var(--fill-color);\n",
              "    }\n",
              "    60% {\n",
              "      border-color: transparent;\n",
              "      border-right-color: var(--fill-color);\n",
              "    }\n",
              "    80% {\n",
              "      border-color: transparent;\n",
              "      border-right-color: var(--fill-color);\n",
              "      border-bottom-color: var(--fill-color);\n",
              "    }\n",
              "    90% {\n",
              "      border-color: transparent;\n",
              "      border-bottom-color: var(--fill-color);\n",
              "    }\n",
              "  }\n",
              "</style>\n",
              "\n",
              "  <script>\n",
              "    async function quickchart(key) {\n",
              "      const quickchartButtonEl =\n",
              "        document.querySelector('#' + key + ' button');\n",
              "      quickchartButtonEl.disabled = true;  // To prevent multiple clicks.\n",
              "      quickchartButtonEl.classList.add('colab-df-spinner');\n",
              "      try {\n",
              "        const charts = await google.colab.kernel.invokeFunction(\n",
              "            'suggestCharts', [key], {});\n",
              "      } catch (error) {\n",
              "        console.error('Error during call to suggestCharts:', error);\n",
              "      }\n",
              "      quickchartButtonEl.classList.remove('colab-df-spinner');\n",
              "      quickchartButtonEl.classList.add('colab-df-quickchart-complete');\n",
              "    }\n",
              "    (() => {\n",
              "      let quickchartButtonEl =\n",
              "        document.querySelector('#df-46ebd193-3ad0-4734-b76b-972f45ab2c98 button');\n",
              "      quickchartButtonEl.style.display =\n",
              "        google.colab.kernel.accessAllowed ? 'block' : 'none';\n",
              "    })();\n",
              "  </script>\n",
              "</div>\n",
              "    </div>\n",
              "  </div>\n"
            ],
            "application/vnd.google.colaboratory.intrinsic+json": {
              "type": "dataframe",
              "variable_name": "registro",
              "summary": "{\n  \"name\": \"registro\",\n  \"rows\": 355,\n  \"fields\": [\n    {\n      \"column\": \"Fecha (dd/mm/aa)\",\n      \"properties\": {\n        \"dtype\": \"date\",\n        \"min\": \"2024-02-12 00:00:00\",\n        \"max\": \"2024-04-03 00:00:00\",\n        \"num_unique_values\": 26,\n        \"samples\": [\n          \"2024-02-20 00:00:00\",\n          \"2024-02-28 00:00:00\",\n          \"2024-02-12 00:00:00\"\n        ],\n        \"semantic_type\": \"\",\n        \"description\": \"\"\n      }\n    },\n    {\n      \"column\": \"Momento\",\n      \"properties\": {\n        \"dtype\": \"category\",\n        \"num_unique_values\": 6,\n        \"samples\": [\n          \"Desayuno\",\n          \"Comida\",\n          \"Colacion\"\n        ],\n        \"semantic_type\": \"\",\n        \"description\": \"\"\n      }\n    },\n    {\n      \"column\": \"Nombre alimento\",\n      \"properties\": {\n        \"dtype\": \"category\",\n        \"num_unique_values\": 146,\n        \"samples\": [\n          \"Milanesa de Pollo\",\n          \"Parfait de yogur con frutas y granola\",\n          \"Yoghurt con Fruta\"\n        ],\n        \"semantic_type\": \"\",\n        \"description\": \"\"\n      }\n    },\n    {\n      \"column\": \"Calor\\u00edas (kcal)\",\n      \"properties\": {\n        \"dtype\": \"number\",\n        \"std\": 178.33989822502255,\n        \"min\": 0.0,\n        \"max\": 675.0,\n        \"num_unique_values\": 113,\n        \"samples\": [\n          0.104,\n          0.426,\n          0.441\n        ],\n        \"semantic_type\": \"\",\n        \"description\": \"\"\n      }\n    },\n    {\n      \"column\": \"Carbohidratos (g)\",\n      \"properties\": {\n        \"dtype\": \"number\",\n        \"std\": 27.287536065094983,\n        \"min\": 0.0,\n        \"max\": 152.8,\n        \"num_unique_values\": 81,\n        \"samples\": [\n          1.96,\n          0.0,\n          4.6\n        ],\n        \"semantic_type\": \"\",\n        \"description\": \"\"\n      }\n    },\n    {\n      \"column\": \"L\\u00edpidos/grasas (g)\",\n      \"properties\": {\n        \"dtype\": \"number\",\n        \"std\": 18.13494998847768,\n        \"min\": 0.0,\n        \"max\": 180.0,\n        \"num_unique_values\": 70,\n        \"samples\": [\n          11.86,\n          4.62,\n          14.7\n        ],\n        \"semantic_type\": \"\",\n        \"description\": \"\"\n      }\n    },\n    {\n      \"column\": \"Prote\\u00edna (g)\",\n      \"properties\": {\n        \"dtype\": \"number\",\n        \"std\": 38.98833614653813,\n        \"min\": 0.0,\n        \"max\": 480.0,\n        \"num_unique_values\": 74,\n        \"samples\": [\n          31.24,\n          15.0,\n          3.29\n        ],\n        \"semantic_type\": \"\",\n        \"description\": \"\"\n      }\n    },\n    {\n      \"column\": \"Sodio (mg)\",\n      \"properties\": {\n        \"dtype\": \"number\",\n        \"std\": 294.93978097908786,\n        \"min\": 0.0,\n        \"max\": 2294.0,\n        \"num_unique_values\": 89,\n        \"samples\": [\n          0.343,\n          1.14,\n          211.0\n        ],\n        \"semantic_type\": \"\",\n        \"description\": \"\"\n      }\n    },\n    {\n      \"column\": \"Fuente\",\n      \"properties\": {\n        \"dtype\": \"category\",\n        \"num_unique_values\": 43,\n        \"samples\": [\n          \"https://www.fatsecret.com.mx/calor\\u00edas-nutrici\\u00f3n/gen\\u00e9rico/espaguetis-con-salsa-de-tomate-sin-carne\",\n          \"https://www.fatsecret.com.mx/calor\\u00edas-nutrici\\u00f3n/gen\\u00e9rico/galletas-de-chocolate\",\n          \"https://www.fatsecret.com.mx/calor\\u00edas-nutrici\\u00f3n/sello-rojo/avena-con-leche/100g\"\n        ],\n        \"semantic_type\": \"\",\n        \"description\": \"\"\n      }\n    },\n    {\n      \"column\": \"Unnamed: 9\",\n      \"properties\": {\n        \"dtype\": \"number\",\n        \"std\": null,\n        \"min\": null,\n        \"max\": null,\n        \"num_unique_values\": 0,\n        \"samples\": [],\n        \"semantic_type\": \"\",\n        \"description\": \"\"\n      }\n    },\n    {\n      \"column\": \"Unnamed: 10\",\n      \"properties\": {\n        \"dtype\": \"category\",\n        \"num_unique_values\": 7,\n        \"samples\": [],\n        \"semantic_type\": \"\",\n        \"description\": \"\"\n      }\n    },\n    {\n      \"column\": \"Unnamed: 11\",\n      \"properties\": {\n        \"dtype\": \"category\",\n        \"num_unique_values\": 13,\n        \"samples\": [],\n        \"semantic_type\": \"\",\n        \"description\": \"\"\n      }\n    }\n  ]\n}"
            }
          },
          "metadata": {},
          "execution_count": 83
        }
      ]
    },
    {
      "cell_type": "markdown",
      "source": [
        "¿Qué atributos (columnas) de la base de datos parecen más prometedores y por qué? R.- Principalmente la informaación nutrimental (calorias, carbohidratos, grasas, proteínas y sodio), asi como tambien el nombre del alimento y en último lugar el momento del dia."
      ],
      "metadata": {
        "id": "oT8QXIq4eiop"
      }
    },
    {
      "cell_type": "markdown",
      "source": [
        "*¿Qué atributos parecen irrelevantes y pueden ser excluidos y por qué? R.- La fecha y el enlace, ya que en modelos estadisticos resultan irrelevantes al no presentar más información que aporte cuantitativamente."
      ],
      "metadata": {
        "id": "q54UeVLUmQo8"
      }
    },
    {
      "cell_type": "markdown",
      "source": [
        "*Realiza un agrupamiento por el atributo de \"Momento\" y trata de extraer algo de información importante al respecto. (Puede ser agrupamiento doble si lo consideras necesario)"
      ],
      "metadata": {
        "id": "dBpU3XhZmjYR"
      }
    },
    {
      "cell_type": "code",
      "source": [
        "# Agrupamos por el atributo \"Momento\" y calculamos estadísticas descriptivas\n",
        "grupo_momento = registro.groupby('Momento').describe()\n",
        "\n",
        "# Mostramos el resultado del agrupamiento\n",
        "print(grupo_momento)\n",
        "\n",
        "# Si queremos hacer un agrupamiento doble, por ejemplo, por \"Momento\" y otro atributo (ej. \"Categoría\")\n",
        "if 'Categoría' in registro.columns:\n",
        "    grupo_momento_categoria = registro.groupby(['Momento', 'Categoría']).describe()\n",
        "\n",
        "    # Mostramos el resultado del agrupamiento doble\n",
        "    print(grupo_momento_categoria)"
      ],
      "metadata": {
        "colab": {
          "base_uri": "https://localhost:8080/"
        },
        "id": "KT0L86GpmuF7",
        "outputId": "3738b897-9f3f-416c-944d-7b3112414422"
      },
      "execution_count": 84,
      "outputs": [
        {
          "output_type": "stream",
          "name": "stdout",
          "text": [
            "         Calorías (kcal)                                                 \\\n",
            "                   count        mean         std    min      25%    50%   \n",
            "Momento                                                                   \n",
            "Cena                56.0   68.089304  157.776060  0.052  0.19275  0.287   \n",
            "Colacion            70.0  125.088843  204.068994  0.000  0.08800  0.136   \n",
            "Colación             3.0    0.043333    0.015011  0.026  0.03900  0.052   \n",
            "Comida             101.0  113.406584  198.483169  0.025  0.14500  0.318   \n",
            "Desayuno            85.0   92.038565  175.147548  0.052  0.14500  0.250   \n",
            "Snack               40.0    4.917350   21.162252  0.018  0.06950  0.103   \n",
            "\n",
            "                             Carbohidratos (g)             ... Sodio (mg)  \\\n",
            "                75%      max             count       mean  ...        75%   \n",
            "Momento                                                    ...              \n",
            "Cena        0.52725  575.000              56.0  25.526607  ...    544.000   \n",
            "Colacion  193.75000  675.000              70.0  21.898571  ...     87.500   \n",
            "Colación    0.05200    0.052               3.0  23.666667  ...      0.505   \n",
            "Comida    175.00000  675.000             101.0  25.619109  ...    250.000   \n",
            "Desayuno  103.00000  625.000              85.0  26.828118  ...    211.000   \n",
            "Snack       0.15500   96.000              40.0  17.641250  ...     27.000   \n",
            "\n",
            "                 Unnamed: 9                               \n",
            "             max      count mean std min 25% 50% 75% max  \n",
            "Momento                                                   \n",
            "Cena      2294.0        0.0  NaN NaN NaN NaN NaN NaN NaN  \n",
            "Colacion   375.0        0.0  NaN NaN NaN NaN NaN NaN NaN  \n",
            "Colación     1.0        0.0  NaN NaN NaN NaN NaN NaN NaN  \n",
            "Comida    1323.0        0.0  NaN NaN NaN NaN NaN NaN NaN  \n",
            "Desayuno  2294.0        0.0  NaN NaN NaN NaN NaN NaN NaN  \n",
            "Snack      995.0        0.0  NaN NaN NaN NaN NaN NaN NaN  \n",
            "\n",
            "[6 rows x 48 columns]\n"
          ]
        }
      ]
    },
    {
      "cell_type": "markdown",
      "source": [
        "*Realiza un agrupamiento por el atributo de \"Fecha\" y trata de extraer algo de información importante al respecto."
      ],
      "metadata": {
        "id": "Y-VniCdBnGe9"
      }
    },
    {
      "cell_type": "code",
      "source": [
        "# Verificamos que la columna \"Fecha\" existe y la convertimos a tipo datetime si no lo está\n",
        "if 'Fecha (dd/mm/aa)' in registro.columns:\n",
        "    registro['Fecha (dd/mm/aa)'] = pd.to_datetime(registro['Fecha (dd/mm/aa)'])\n",
        "\n",
        "# Agrupamos por el atributo \"Fecha\" y calculamos estadísticas descriptivas\n",
        "grupo_fecha = registro.groupby('Fecha (dd/mm/aa)').describe()\n",
        "\n",
        "# Mostramos el resultado del agrupamiento\n",
        "print(grupo_fecha)\n",
        "\n",
        "# Si queremos ver la suma de alguna columna numérica por fecha, por ejemplo, una columna llamada \"Cantidad\"\n",
        "if 'Cantidad' in registro.columns:\n",
        "    suma_por_fecha = registro.groupby('Fecha (dd/mm/aa)')['Sodio'].sum()\n",
        "    print(suma_por_fecha)"
      ],
      "metadata": {
        "colab": {
          "base_uri": "https://localhost:8080/"
        },
        "id": "rKirma1JnG6E",
        "outputId": "a76507c9-7251-4cd7-b2b1-6a357b148893"
      },
      "execution_count": 85,
      "outputs": [
        {
          "output_type": "stream",
          "name": "stdout",
          "text": [
            "                 Calorías (kcal)                                        \\\n",
            "                           count       mean        std    min      25%   \n",
            "Fecha (dd/mm/aa)                                                         \n",
            "2024-02-12                   3.0   0.155000   0.034641  0.135  0.13500   \n",
            "2024-02-13                   5.0  19.354000  42.846636  0.074  0.13500   \n",
            "2024-02-14                   7.0   0.267714   0.172074  0.052  0.13650   \n",
            "2024-02-15                   6.0   0.189000   0.086084  0.072  0.13275   \n",
            "2024-02-16                   5.0   0.221200   0.169696  0.103  0.11200   \n",
            "2024-02-17                   6.0   0.206833   0.151046  0.112  0.13500   \n",
            "2024-02-18                   7.0   0.204714   0.092025  0.135  0.15500   \n",
            "2024-02-19                   6.0   0.155167   0.099278  0.044  0.11100   \n",
            "2024-02-20                   6.0   0.265500   0.218762  0.018  0.07975   \n",
            "2024-02-21                   4.0   0.156000   0.126161  0.032  0.07175   \n",
            "2024-02-22                   1.0   0.099000        NaN  0.099  0.09900   \n",
            "2024-02-23                   3.0   0.199000   0.098061  0.103  0.14900   \n",
            "2024-02-24                   4.0   0.180250   0.086885  0.062  0.15725   \n",
            "2024-02-25                   4.0   0.139750   0.052379  0.062  0.13175   \n",
            "2024-02-26                   4.0   0.228750   0.101029  0.099  0.17400   \n",
            "2024-02-27                   4.0   0.269500   0.307886  0.074  0.08225   \n",
            "2024-02-28                   4.0   0.191250   0.092924  0.072  0.16425   \n",
            "2024-02-29                   4.0   0.191000   0.096592  0.074  0.13475   \n",
            "2024-03-01                   4.0   0.248250   0.091558  0.114  0.23175   \n",
            "2024-03-02                   4.0   0.181000   0.133609  0.036  0.08325   \n",
            "2024-03-03                   3.0   0.181333   0.115691  0.062  0.12550   \n",
            "2024-03-04                   4.0  24.179500  47.880367  0.199  0.19900   \n",
            "2024-03-05                   4.0   0.196500   0.118585  0.085  0.09850   \n",
            "2024-03-06                   4.0   0.186000   0.117459  0.032  0.15425   \n",
            "2024-03-07                   4.0   0.157500   0.126719  0.032  0.07175   \n",
            "2024-04-03                   1.0   0.318000        NaN  0.318  0.31800   \n",
            "\n",
            "                                           Carbohidratos (g)             ...  \\\n",
            "                     50%       75%     max             count       mean  ...   \n",
            "Fecha (dd/mm/aa)                                                         ...   \n",
            "2024-02-12        0.1350   0.16500   0.195               3.0   0.000000  ...   \n",
            "2024-02-13        0.1350   0.42600  96.000               5.0  10.868000  ...   \n",
            "2024-02-14        0.2740   0.38250   0.510               7.0  31.135714  ...   \n",
            "2024-02-15        0.1950   0.24375   0.300               6.0  16.141667  ...   \n",
            "2024-02-16        0.1800   0.19500   0.516               5.0  21.518000  ...   \n",
            "2024-02-17        0.1450   0.18425   0.510               6.0  33.816667  ...   \n",
            "2024-02-18        0.1550   0.24700   0.339               7.0  14.660000  ...   \n",
            "2024-02-19        0.1450   0.15500   0.339               6.0  11.920000  ...   \n",
            "2024-02-20        0.2645   0.45450   0.510               6.0  27.823333  ...   \n",
            "2024-02-21        0.1370   0.22125   0.318               4.0  14.180000  ...   \n",
            "2024-02-22        0.0990   0.09900   0.099               1.0  17.200000  ...   \n",
            "2024-02-23        0.1950   0.24700   0.299               3.0  16.603333  ...   \n",
            "2024-02-24        0.1940   0.21700   0.271               4.0  15.597500  ...   \n",
            "2024-02-25        0.1630   0.17100   0.171               4.0   4.817500  ...   \n",
            "2024-02-26        0.2490   0.30375   0.318               4.0  18.680000  ...   \n",
            "2024-02-27        0.1400   0.32725   0.724               4.0  30.222500  ...   \n",
            "2024-02-28        0.1970   0.22400   0.299               4.0  14.757500  ...   \n",
            "2024-02-29        0.1985   0.25475   0.293               4.0  21.667500  ...   \n",
            "2024-03-01        0.2805   0.29700   0.318               4.0  26.872500  ...   \n",
            "2024-03-02        0.1945   0.29225   0.299               4.0  25.090000  ...   \n",
            "2024-03-03        0.1890   0.24100   0.293               3.0  29.903333  ...   \n",
            "2024-03-04        0.2595  24.24000  96.000               4.0  16.730000  ...   \n",
            "2024-03-05        0.2010   0.29900   0.299               4.0  25.322500  ...   \n",
            "2024-03-06        0.1970   0.22875   0.318               4.0   6.127500  ...   \n",
            "2024-03-07        0.1400   0.22575   0.318               4.0   9.005000  ...   \n",
            "2024-04-03        0.3180   0.31800   0.318               1.0  17.550000  ...   \n",
            "\n",
            "                 Sodio (mg)         Unnamed: 9                               \n",
            "                        75%     max      count mean std min 25% 50% 75% max  \n",
            "Fecha (dd/mm/aa)                                                             \n",
            "2024-02-12           225.00   393.0        0.0  NaN NaN NaN NaN NaN NaN NaN  \n",
            "2024-02-13            57.00  2294.0        0.0  NaN NaN NaN NaN NaN NaN NaN  \n",
            "2024-02-14          1159.00  2294.0        0.0  NaN NaN NaN NaN NaN NaN NaN  \n",
            "2024-02-15           548.25   770.0        0.0  NaN NaN NaN NaN NaN NaN NaN  \n",
            "2024-02-16           393.00   955.0        0.0  NaN NaN NaN NaN NaN NaN NaN  \n",
            "2024-02-17           231.75   995.0        0.0  NaN NaN NaN NaN NaN NaN NaN  \n",
            "2024-02-18           690.00  1323.0        0.0  NaN NaN NaN NaN NaN NaN NaN  \n",
            "2024-02-19            50.25  1323.0        0.0  NaN NaN NaN NaN NaN NaN NaN  \n",
            "2024-02-20           690.00   840.0        0.0  NaN NaN NaN NaN NaN NaN NaN  \n",
            "2024-02-21           515.50   685.0        0.0  NaN NaN NaN NaN NaN NaN NaN  \n",
            "2024-02-22            50.00    50.0        0.0  NaN NaN NaN NaN NaN NaN NaN  \n",
            "2024-02-23           468.50   544.0        0.0  NaN NaN NaN NaN NaN NaN NaN  \n",
            "2024-02-24           679.00   685.0        0.0  NaN NaN NaN NaN NaN NaN NaN  \n",
            "2024-02-25           467.00   467.0        0.0  NaN NaN NaN NaN NaN NaN NaN  \n",
            "2024-02-26           480.25   544.0        0.0  NaN NaN NaN NaN NaN NaN NaN  \n",
            "2024-02-27           676.00  1525.0        0.0  NaN NaN NaN NaN NaN NaN NaN  \n",
            "2024-02-28           430.75   544.0        0.0  NaN NaN NaN NaN NaN NaN NaN  \n",
            "2024-02-29           398.75   563.0        0.0  NaN NaN NaN NaN NaN NaN NaN  \n",
            "2024-03-01           715.25   830.0        0.0  NaN NaN NaN NaN NaN NaN NaN  \n",
            "2024-03-02           615.50   830.0        0.0  NaN NaN NaN NaN NaN NaN NaN  \n",
            "2024-03-03           624.00   685.0        0.0  NaN NaN NaN NaN NaN NaN NaN  \n",
            "2024-03-04           312.25   616.0        0.0  NaN NaN NaN NaN NaN NaN NaN  \n",
            "2024-03-05           544.00   544.0        0.0  NaN NaN NaN NaN NaN NaN NaN  \n",
            "2024-03-06           409.50   459.0        0.0  NaN NaN NaN NaN NaN NaN NaN  \n",
            "2024-03-07           409.50   459.0        0.0  NaN NaN NaN NaN NaN NaN NaN  \n",
            "2024-04-03           459.00   459.0        0.0  NaN NaN NaN NaN NaN NaN NaN  \n",
            "\n",
            "[26 rows x 48 columns]\n"
          ]
        }
      ]
    },
    {
      "cell_type": "markdown",
      "source": [
        "*¿Cuántos alimentos distintos hay en tu base de datos?"
      ],
      "metadata": {
        "id": "gOWqaAospdjt"
      }
    },
    {
      "cell_type": "code",
      "source": [
        "num_alimentos_distintos = registro['Nombre alimento'].nunique()\n",
        "\n",
        "# Mostrar el resultado\n",
        "print(\"Número de alimentos distintos:\", num_alimentos_distintos)"
      ],
      "metadata": {
        "colab": {
          "base_uri": "https://localhost:8080/"
        },
        "id": "_oYl9Y6HpdUJ",
        "outputId": "68e5f41a-051f-4dc7-fda0-1b2643a9ce07"
      },
      "execution_count": 86,
      "outputs": [
        {
          "output_type": "stream",
          "name": "stdout",
          "text": [
            "Número de alimentos distintos: 146\n"
          ]
        }
      ]
    },
    {
      "cell_type": "markdown",
      "source": [
        "*¿Consideras hay datos suficientes para sacar conclusiones generalizables o hacer predicciones precisas? R.- Personalmente que si, hasta cierto punto, ya que generalmente, cuanto mayor sea el conjunto de datos, mejor será su capacidad para sacar conclusiones significativas y hacer predicciones precisas.De igual forma, es importante que los datos sean representativos del fenómeno que se estudia. Una muestra sesgada puede llevar a conclusiones incorrectas."
      ],
      "metadata": {
        "id": "fym8-kmCpuLK"
      }
    },
    {
      "cell_type": "markdown",
      "source": [
        "*¿Consideras hay demasiados atributos (columnas) para realizar un modelo que sea fácil de interpretar? R.- No, ya que puede cuando existen demasiados, puede volverse difícil entender cómo cada uno contribuye al resultado final del modelo. Esto puede dificultar la interpretación de los hallazgos y la comunicación de los resultados."
      ],
      "metadata": {
        "id": "Bd3gcF8BqwE5"
      }
    },
    {
      "cell_type": "markdown",
      "source": [
        "*¿Se realizó una concatenación de fuentes de datos? Si es así ¿De quién es la otra base de datos? Explica tus razones para concatenar o no. R.- No, ya que no presentaba mayores problemas al correr el codigo y los valores eran al menos suficientes."
      ],
      "metadata": {
        "id": "J6H49cIqrOjq"
      }
    },
    {
      "cell_type": "markdown",
      "source": [
        "*¿Se están fusionando varias fuentes de datos? Si es así, ¿hay áreas que podrían plantear un problema al fusionar? R.- No"
      ],
      "metadata": {
        "id": "jXD0PPO6ru1n"
      }
    },
    {
      "cell_type": "markdown",
      "source": [
        "*Da un ejemplo de una fusión que pudiera abonar a tu proyecto"
      ],
      "metadata": {
        "id": "gPV94q-4r0VL"
      }
    },
    {
      "cell_type": "code",
      "source": [
        "info = pd.read_excel('A01736492_Actividad2_Registro.xlsx')\n",
        "info.columns"
      ],
      "metadata": {
        "colab": {
          "base_uri": "https://localhost:8080/"
        },
        "id": "K7HgUGXMrz2W",
        "outputId": "9a9319cb-2690-4184-f5ba-1cd996604aae"
      },
      "execution_count": 101,
      "outputs": [
        {
          "output_type": "execute_result",
          "data": {
            "text/plain": [
              "Index(['Fecha (dd/mm/aa)', 'Momento', 'Nombre alimento', 'Calorías (kcal)',\n",
              "       'Carbohidratos (g)', 'Lípidos/grasas (g)', 'Proteína (g)', 'Sodio (mg)',\n",
              "       'Fuente', 'Unnamed: 9', 'Unnamed: 10', 'Unnamed: 11'],\n",
              "      dtype='object')"
            ]
          },
          "metadata": {},
          "execution_count": 101
        }
      ]
    },
    {
      "cell_type": "code",
      "source": [
        "menu=pd.read_excel('menu_1.xlsx')\n",
        "menu.columns"
      ],
      "metadata": {
        "colab": {
          "base_uri": "https://localhost:8080/"
        },
        "id": "SRHi5xLowwgE",
        "outputId": "7591bec4-3d97-446d-9ac1-efe1f3fdc650"
      },
      "execution_count": 102,
      "outputs": [
        {
          "output_type": "execute_result",
          "data": {
            "text/plain": [
              "Index(['Category', 'Item', 'Serving Size', 'Calories', 'Calories from Fat',\n",
              "       'Total Fat', 'Total Fat (% Daily Value)', 'Saturated Fat',\n",
              "       'Saturated Fat (% Daily Value)', 'Trans Fat', 'Cholesterol',\n",
              "       'Cholesterol (% Daily Value)', 'Sodium', 'Sodium (% Daily Value)',\n",
              "       'Carbohydrates', 'Carbohydrates (% Daily Value)', 'Dietary Fiber',\n",
              "       'Dietary Fiber (% Daily Value)', 'Sugars', 'Protein',\n",
              "       'Vitamin A (% Daily Value)', 'Vitamin C (% Daily Value)',\n",
              "       'Calcium (% Daily Value)', 'Iron (% Daily Value)'],\n",
              "      dtype='object')"
            ]
          },
          "metadata": {},
          "execution_count": 102
        }
      ]
    },
    {
      "cell_type": "code",
      "source": [
        "fusion = pd.merge(left=info, right=menu, left_on='Fecha (dd/mm/aa)', right_on='Nombre alimento')\n",
        "fusion.sample()"
      ],
      "metadata": {
        "colab": {
          "base_uri": "https://localhost:8080/",
          "height": 304
        },
        "id": "HHEy1PnTtkP4",
        "outputId": "3b1a671d-1fdb-4bea-9b50-00733e6ce8d9"
      },
      "execution_count": 113,
      "outputs": [
        {
          "output_type": "error",
          "ename": "KeyError",
          "evalue": "'Nombre alimento'",
          "traceback": [
            "\u001b[0;31m---------------------------------------------------------------------------\u001b[0m",
            "\u001b[0;31mKeyError\u001b[0m                                  Traceback (most recent call last)",
            "\u001b[0;32m<ipython-input-113-df60faae5bfb>\u001b[0m in \u001b[0;36m<cell line: 1>\u001b[0;34m()\u001b[0m\n\u001b[0;32m----> 1\u001b[0;31m \u001b[0mfusion\u001b[0m \u001b[0;34m=\u001b[0m \u001b[0mpd\u001b[0m\u001b[0;34m.\u001b[0m\u001b[0mmerge\u001b[0m\u001b[0;34m(\u001b[0m\u001b[0mleft\u001b[0m\u001b[0;34m=\u001b[0m\u001b[0minfo\u001b[0m\u001b[0;34m,\u001b[0m \u001b[0mright\u001b[0m\u001b[0;34m=\u001b[0m\u001b[0mmenu\u001b[0m\u001b[0;34m,\u001b[0m \u001b[0mleft_on\u001b[0m\u001b[0;34m=\u001b[0m\u001b[0;34m'Fecha (dd/mm/aa)'\u001b[0m\u001b[0;34m,\u001b[0m \u001b[0mright_on\u001b[0m\u001b[0;34m=\u001b[0m\u001b[0;34m'Nombre alimento'\u001b[0m\u001b[0;34m)\u001b[0m\u001b[0;34m\u001b[0m\u001b[0;34m\u001b[0m\u001b[0m\n\u001b[0m\u001b[1;32m      2\u001b[0m \u001b[0mfusion\u001b[0m\u001b[0;34m.\u001b[0m\u001b[0msample\u001b[0m\u001b[0;34m(\u001b[0m\u001b[0;34m)\u001b[0m\u001b[0;34m\u001b[0m\u001b[0;34m\u001b[0m\u001b[0m\n",
            "\u001b[0;32m/usr/local/lib/python3.10/dist-packages/pandas/core/reshape/merge.py\u001b[0m in \u001b[0;36mmerge\u001b[0;34m(left, right, how, on, left_on, right_on, left_index, right_index, sort, suffixes, copy, indicator, validate)\u001b[0m\n\u001b[1;32m    146\u001b[0m     \u001b[0mvalidate\u001b[0m\u001b[0;34m:\u001b[0m \u001b[0mstr\u001b[0m \u001b[0;34m|\u001b[0m \u001b[0;32mNone\u001b[0m \u001b[0;34m=\u001b[0m \u001b[0;32mNone\u001b[0m\u001b[0;34m,\u001b[0m\u001b[0;34m\u001b[0m\u001b[0;34m\u001b[0m\u001b[0m\n\u001b[1;32m    147\u001b[0m ) -> DataFrame:\n\u001b[0;32m--> 148\u001b[0;31m     op = _MergeOperation(\n\u001b[0m\u001b[1;32m    149\u001b[0m         \u001b[0mleft\u001b[0m\u001b[0;34m,\u001b[0m\u001b[0;34m\u001b[0m\u001b[0;34m\u001b[0m\u001b[0m\n\u001b[1;32m    150\u001b[0m         \u001b[0mright\u001b[0m\u001b[0;34m,\u001b[0m\u001b[0;34m\u001b[0m\u001b[0;34m\u001b[0m\u001b[0m\n",
            "\u001b[0;32m/usr/local/lib/python3.10/dist-packages/pandas/core/reshape/merge.py\u001b[0m in \u001b[0;36m__init__\u001b[0;34m(self, left, right, how, on, left_on, right_on, axis, left_index, right_index, sort, suffixes, indicator, validate)\u001b[0m\n\u001b[1;32m    735\u001b[0m             \u001b[0mself\u001b[0m\u001b[0;34m.\u001b[0m\u001b[0mright_join_keys\u001b[0m\u001b[0;34m,\u001b[0m\u001b[0;34m\u001b[0m\u001b[0;34m\u001b[0m\u001b[0m\n\u001b[1;32m    736\u001b[0m             \u001b[0mself\u001b[0m\u001b[0;34m.\u001b[0m\u001b[0mjoin_names\u001b[0m\u001b[0;34m,\u001b[0m\u001b[0;34m\u001b[0m\u001b[0;34m\u001b[0m\u001b[0m\n\u001b[0;32m--> 737\u001b[0;31m         ) = self._get_merge_keys()\n\u001b[0m\u001b[1;32m    738\u001b[0m \u001b[0;34m\u001b[0m\u001b[0m\n\u001b[1;32m    739\u001b[0m         \u001b[0;31m# validate the merge keys dtypes. We may need to coerce\u001b[0m\u001b[0;34m\u001b[0m\u001b[0;34m\u001b[0m\u001b[0m\n",
            "\u001b[0;32m/usr/local/lib/python3.10/dist-packages/pandas/core/reshape/merge.py\u001b[0m in \u001b[0;36m_get_merge_keys\u001b[0;34m(self)\u001b[0m\n\u001b[1;32m   1201\u001b[0m                         \u001b[0mrk\u001b[0m \u001b[0;34m=\u001b[0m \u001b[0mcast\u001b[0m\u001b[0;34m(\u001b[0m\u001b[0mHashable\u001b[0m\u001b[0;34m,\u001b[0m \u001b[0mrk\u001b[0m\u001b[0;34m)\u001b[0m\u001b[0;34m\u001b[0m\u001b[0;34m\u001b[0m\u001b[0m\n\u001b[1;32m   1202\u001b[0m                         \u001b[0;32mif\u001b[0m \u001b[0mrk\u001b[0m \u001b[0;32mis\u001b[0m \u001b[0;32mnot\u001b[0m \u001b[0;32mNone\u001b[0m\u001b[0;34m:\u001b[0m\u001b[0;34m\u001b[0m\u001b[0;34m\u001b[0m\u001b[0m\n\u001b[0;32m-> 1203\u001b[0;31m                             \u001b[0mright_keys\u001b[0m\u001b[0;34m.\u001b[0m\u001b[0mappend\u001b[0m\u001b[0;34m(\u001b[0m\u001b[0mright\u001b[0m\u001b[0;34m.\u001b[0m\u001b[0m_get_label_or_level_values\u001b[0m\u001b[0;34m(\u001b[0m\u001b[0mrk\u001b[0m\u001b[0;34m)\u001b[0m\u001b[0;34m)\u001b[0m\u001b[0;34m\u001b[0m\u001b[0;34m\u001b[0m\u001b[0m\n\u001b[0m\u001b[1;32m   1204\u001b[0m                         \u001b[0;32melse\u001b[0m\u001b[0;34m:\u001b[0m\u001b[0;34m\u001b[0m\u001b[0;34m\u001b[0m\u001b[0m\n\u001b[1;32m   1205\u001b[0m                             \u001b[0;31m# work-around for merge_asof(right_index=True)\u001b[0m\u001b[0;34m\u001b[0m\u001b[0;34m\u001b[0m\u001b[0m\n",
            "\u001b[0;32m/usr/local/lib/python3.10/dist-packages/pandas/core/generic.py\u001b[0m in \u001b[0;36m_get_label_or_level_values\u001b[0;34m(self, key, axis)\u001b[0m\n\u001b[1;32m   1776\u001b[0m             \u001b[0mvalues\u001b[0m \u001b[0;34m=\u001b[0m \u001b[0mself\u001b[0m\u001b[0;34m.\u001b[0m\u001b[0maxes\u001b[0m\u001b[0;34m[\u001b[0m\u001b[0maxis\u001b[0m\u001b[0;34m]\u001b[0m\u001b[0;34m.\u001b[0m\u001b[0mget_level_values\u001b[0m\u001b[0;34m(\u001b[0m\u001b[0mkey\u001b[0m\u001b[0;34m)\u001b[0m\u001b[0;34m.\u001b[0m\u001b[0m_values\u001b[0m\u001b[0;34m\u001b[0m\u001b[0;34m\u001b[0m\u001b[0m\n\u001b[1;32m   1777\u001b[0m         \u001b[0;32melse\u001b[0m\u001b[0;34m:\u001b[0m\u001b[0;34m\u001b[0m\u001b[0;34m\u001b[0m\u001b[0m\n\u001b[0;32m-> 1778\u001b[0;31m             \u001b[0;32mraise\u001b[0m \u001b[0mKeyError\u001b[0m\u001b[0;34m(\u001b[0m\u001b[0mkey\u001b[0m\u001b[0;34m)\u001b[0m\u001b[0;34m\u001b[0m\u001b[0;34m\u001b[0m\u001b[0m\n\u001b[0m\u001b[1;32m   1779\u001b[0m \u001b[0;34m\u001b[0m\u001b[0m\n\u001b[1;32m   1780\u001b[0m         \u001b[0;31m# Check for duplicates\u001b[0m\u001b[0;34m\u001b[0m\u001b[0;34m\u001b[0m\u001b[0m\n",
            "\u001b[0;31mKeyError\u001b[0m: 'Nombre alimento'"
          ]
        }
      ]
    },
    {
      "cell_type": "markdown",
      "source": [
        "*Muestra si en tu base da datos hay valores faltanes"
      ],
      "metadata": {
        "id": "6Alg6ipCxwgo"
      }
    },
    {
      "cell_type": "code",
      "source": [
        "# Verificar valores faltantes en el DataFrame\n",
        "valores_faltantes = registro.isna().sum()\n",
        "\n",
        "# Mostrar los valores faltantes por columna\n",
        "print(valores_faltantes)"
      ],
      "metadata": {
        "colab": {
          "base_uri": "https://localhost:8080/"
        },
        "id": "0DtV4ORvx3NA",
        "outputId": "504ac9ca-666f-4de9-a3b5-f7fb1e2e7709"
      },
      "execution_count": 114,
      "outputs": [
        {
          "output_type": "stream",
          "name": "stdout",
          "text": [
            "Momento                 0\n",
            "Nombre alimento         0\n",
            "Calorías (kcal)         0\n",
            "Carbohidratos (g)       0\n",
            "Lípidos/grasas (g)      0\n",
            "Proteína (g)            0\n",
            "Sodio (mg)              0\n",
            "Fuente                244\n",
            "Unnamed: 9            355\n",
            "Unnamed: 10           348\n",
            "Unnamed: 11           342\n",
            "dtype: int64\n"
          ]
        }
      ]
    },
    {
      "cell_type": "markdown",
      "source": [
        "*¿Cuál es tu plan para manejar los valores faltantes en cada una de las fuentes de datos? R.- Se necesita un tratamiento, el cual puede ser por: Eliminación de filas o columnas si la cantidad de datos faltantes es pequeña en relación con el conjunto total, eliminar las filas o columnas con esos valores puede ser una opción. Sin embargo, esto puede resultar en pérdida de información. Imputación, la cual consiste en reemplazar los valores faltantes con estimaciones, como la media, la mediana o el valor más común en la columna respectiva. Esto preserva los datos existentes, pero puede introducir sesgos. Mediante el modelado de valores faltantes: Tratar los valores faltantes como una categoría separada y usar algoritmos que puedan manejarlos de manera explícita."
      ],
      "metadata": {
        "id": "tT_Yiac9yWe1"
      }
    },
    {
      "cell_type": "markdown",
      "source": [
        "*Identifica de 1 a 2 hipótesis adicionales para tu proyecto. R.-\n",
        "\n",
        "1. Consumo de alimentos según el momento del día: Se podría hipotetizar que el tipo y la cantidad de alimentos consumidos varían según el momento del día (por ejemplo, desayuno, almuerzo, cena). Esta hipótesis podría evaluarse analizando si hay diferencias significativas en el tipo y la cantidad de alimentos consumidos en diferentes momentos del día.\n",
        "\n",
        "2. Correlación entre el contenido nutricional y el número de calorías: Se podría hipotetizar que existe una correlación entre el contenido nutricional de los alimentos (carbohidratos, grasas, proteínas, etc.) y el número total de calorías. Por ejemplo, podría esperarse que los alimentos con un alto contenido de grasas tengan un mayor número de calorías. Esta hipótesis podría evaluarse mediante un análisis de correlación para determinar si existe una relación significativa entre estas variables."
      ],
      "metadata": {
        "id": "5x0JtRaUymZO"
      }
    },
    {
      "cell_type": "markdown",
      "source": [
        "Link: https://docs.google.com/spreadsheets/d/1l4N9ta_ZVwy5dB7phce7t_vutSahQ_ly/edit#gid=705796256"
      ],
      "metadata": {
        "id": "4gRtSNVoyqWH"
      }
    }
  ]
}