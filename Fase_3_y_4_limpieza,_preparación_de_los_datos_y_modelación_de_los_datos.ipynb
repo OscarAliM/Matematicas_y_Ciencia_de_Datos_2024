{
  "nbformat": 4,
  "nbformat_minor": 0,
  "metadata": {
    "colab": {
      "provenance": [],
      "authorship_tag": "ABX9TyPvowwHrNg1/SSQ/DTj+ghe",
      "include_colab_link": true
    },
    "kernelspec": {
      "name": "python3",
      "display_name": "Python 3"
    },
    "language_info": {
      "name": "python"
    }
  },
  "cells": [
    {
      "cell_type": "markdown",
      "metadata": {
        "id": "view-in-github",
        "colab_type": "text"
      },
      "source": [
        "<a href=\"https://colab.research.google.com/github/OscarAliM/Matematicas_y_Ciencia_de_Datos_2024/blob/main/Fase_3_y_4_limpieza%2C_preparaci%C3%B3n_de_los_datos_y_modelaci%C3%B3n_de_los_datos.ipynb\" target=\"_parent\"><img src=\"https://colab.research.google.com/assets/colab-badge.svg\" alt=\"Open In Colab\"/></a>"
      ]
    },
    {
      "cell_type": "markdown",
      "source": [
        "# ***Fase 3 y 4: limpieza, preparación de los datos y modelación de los datos.***\n"
      ],
      "metadata": {
        "id": "SgaaN8CTUugu"
      }
    },
    {
      "cell_type": "markdown",
      "source": [
        "**Cargando y explorando los datos**"
      ],
      "metadata": {
        "id": "m0hcL2JRWhyB"
      }
    },
    {
      "cell_type": "markdown",
      "source": [
        "Con el archivo en Colab, utilizaremos la librería Pandas para cargar los datos en un DataFrame.\n",
        "\n"
      ],
      "metadata": {
        "id": "IGwAOJY-U0PV"
      }
    },
    {
      "cell_type": "markdown",
      "source": [
        "**Exploración de datos**\n",
        "\n"
      ],
      "metadata": {
        "id": "QzbWV2b2U7db"
      }
    },
    {
      "cell_type": "markdown",
      "source": [
        "1. Crea una celda de código nueva para cada línea de código e iremos escribiendo y corriendo una por una para detectar posibles errores además de ver los resultados al ir avanzando."
      ],
      "metadata": {
        "id": "U82GAzLTU-I7"
      }
    },
    {
      "cell_type": "code",
      "source": [
        "# Paso 1"
      ],
      "metadata": {
        "id": "77VESBbcU_7k"
      },
      "execution_count": 70,
      "outputs": []
    },
    {
      "cell_type": "markdown",
      "source": [
        "2. Crea la variable datos_consumo (usa ese nombre para el Data Frame) para cargar el archivo con la función read_excel de la librería Pandas:"
      ],
      "metadata": {
        "id": "WhPVNml6U_Qx"
      }
    },
    {
      "cell_type": "code",
      "source": [
        "# Paso 2\n",
        "import pandas as pd"
      ],
      "metadata": {
        "id": "huLEw9g0TBmF"
      },
      "execution_count": 71,
      "outputs": []
    },
    {
      "cell_type": "markdown",
      "source": [
        "3. Usa la función head() o tail() para comprobar que los datos se cargaron correctemente en el dataframe viendo 3 registros."
      ],
      "metadata": {
        "id": "2SajwQU7VKMn"
      }
    },
    {
      "cell_type": "code",
      "source": [
        "# Paso 3\n",
        "datos_consumo = pd.read_excel(\"A01736492_Actividad2_Registro.xlsx\")\n",
        "# Mostrar las primeras 3 filas del DataFrame para verificar que se cargó correctamente\n",
        "print(\"Primeros 3 registros del DataFrame:\")\n",
        "print(datos_consumo.head(3))\n",
        "\n",
        "# Mostrar las últimas 3 filas del DataFrame para verificar que se cargó correctamente\n",
        "print(\"\\nÚltimos 3 registros del DataFrame:\")\n",
        "print(datos_consumo.tail(3))"
      ],
      "metadata": {
        "colab": {
          "base_uri": "https://localhost:8080/"
        },
        "id": "kyIFttdjTHVZ",
        "outputId": "c45b50bc-57d4-49d4-abab-87e52d89090f"
      },
      "execution_count": 72,
      "outputs": [
        {
          "output_type": "stream",
          "name": "stdout",
          "text": [
            "Primeros 3 registros del DataFrame:\n",
            "    Momento   Nombre alimento  Calorías  Carbohidratos  Lípidos  Proteína  \\\n",
            "0  Desayuno      Carne de Res     0.135            0.0     4.62     21.91   \n",
            "1    Comida      Carne de Res     0.135            0.0     4.62     21.91   \n",
            "2      Cena  Pechuga de Pollo     0.195            0.0     7.72     29.55   \n",
            "\n",
            "   Sodio  \n",
            "0   57.0  \n",
            "1   57.0  \n",
            "2  393.0  \n",
            "\n",
            "Últimos 3 registros del DataFrame:\n",
            "      Momento                      Nombre alimento  Calorías  Carbohidratos  \\\n",
            "352  Desayuno  Salmón con quinoa y verduras asadas     150.0           25.0   \n",
            "353    Comida              Sopa de frijoles negros     150.0           25.0   \n",
            "354    Comida                     Sopa de lentejas     250.0           15.0   \n",
            "\n",
            "     Lípidos  Proteína  Sodio  \n",
            "352     25.0      30.0  375.0  \n",
            "353     15.0      20.0  200.0  \n",
            "354     10.0      20.0  200.0  \n"
          ]
        }
      ]
    },
    {
      "cell_type": "markdown",
      "source": [
        "4. Realiza una agrupación de los datos por Momento y cuénta cuantos elementos diferentes hay por momento. Interpreta lo que obtuviste"
      ],
      "metadata": {
        "id": "icc9G6v4VNv7"
      }
    },
    {
      "cell_type": "code",
      "source": [
        "# Paso 4\n",
        "conteo_por_momento = datos_consumo.groupby('Momento').size()\n",
        "print(conteo_por_momento)"
      ],
      "metadata": {
        "colab": {
          "base_uri": "https://localhost:8080/"
        },
        "id": "HdqMi299TKT4",
        "outputId": "9ddb6a61-0cf5-4c28-d176-479ab64d3f9a"
      },
      "execution_count": 73,
      "outputs": [
        {
          "output_type": "stream",
          "name": "stdout",
          "text": [
            "Momento\n",
            "Cena         56\n",
            "Colacion     73\n",
            "Comida      101\n",
            "Desayuno     85\n",
            "Snack        40\n",
            "dtype: int64\n"
          ]
        }
      ]
    },
    {
      "cell_type": "markdown",
      "source": [
        "5. Usa una función para obtener la estadística descriptiva y completar la exploración de nuestros datos. Interpreta lo que obtuviste"
      ],
      "metadata": {
        "id": "GrULV93iVUmb"
      }
    },
    {
      "cell_type": "code",
      "source": [
        "# Paso 5\n",
        "descripcion_estadistica = datos_consumo.describe()\n",
        "print(descripcion_estadistica)"
      ],
      "metadata": {
        "colab": {
          "base_uri": "https://localhost:8080/"
        },
        "id": "K274SpSpTLn-",
        "outputId": "9deda949-2cf0-44ac-b205-6f9dbc6f0819"
      },
      "execution_count": 74,
      "outputs": [
        {
          "output_type": "stream",
          "name": "stdout",
          "text": [
            "         Calorías  Carbohidratos     Lípidos    Proteína        Sodio\n",
            "count  355.000000     355.000000  355.000000  355.000000   355.000000\n",
            "mean    90.263062      24.244958   10.759296   16.373465   156.829017\n",
            "std    178.339898      27.287536   18.134950   38.988336   294.939781\n",
            "min      0.000000       0.000000    0.000000    0.000000     0.000000\n",
            "25%      0.110000       9.000000    0.355000    1.660000     0.190000\n",
            "50%      0.204000      19.000000    7.720000   10.000000    10.000000\n",
            "75%      1.884000      30.000000   15.000000   21.910000   205.500000\n",
            "max    675.000000     152.800000  180.000000  480.000000  2294.000000\n"
          ]
        }
      ]
    },
    {
      "cell_type": "markdown",
      "source": [
        "**Seleccionando los datos**"
      ],
      "metadata": {
        "id": "eAuNirrqVXOR"
      }
    },
    {
      "cell_type": "markdown",
      "source": [
        "6. Crea una variable datos para asignarle el DafaFrame que contendrá solo los datos que analizaremos, utilizamos la función iloc[ ] para seleccionar los elementos de acuerdo a su ubicación. Su sintaxis es iloc[<filas>, <columnas>] o bien la función loc[ ] para seleccionar de acuerdo a su nombre."
      ],
      "metadata": {
        "id": "NfruPBbQVYi2"
      }
    },
    {
      "cell_type": "code",
      "source": [
        "# Paso 6\n",
        "datos = datos_consumo.iloc[:, 2:]  # Seleccionando todas las filas y las columnas a partir de la tercera\n",
        "print(datos.head())\n"
      ],
      "metadata": {
        "colab": {
          "base_uri": "https://localhost:8080/"
        },
        "id": "gOvaRCt8TNRT",
        "outputId": "462d0ac3-e03b-4c81-8109-b29ca7c27da3"
      },
      "execution_count": 75,
      "outputs": [
        {
          "output_type": "stream",
          "name": "stdout",
          "text": [
            "   Calorías  Carbohidratos  Lípidos  Proteína  Sodio\n",
            "0     0.135            0.0     4.62     21.91   57.0\n",
            "1     0.135            0.0     4.62     21.91   57.0\n",
            "2     0.195            0.0     7.72     29.55  393.0\n",
            "3     0.135            0.0     4.62     21.91   57.0\n",
            "4     0.135            0.0     4.62     21.91   57.0\n"
          ]
        }
      ]
    },
    {
      "cell_type": "markdown",
      "source": [
        "7. Con la función info() vemos la información completa de los datos del nuevo dataframe, ya solo debemos tener los valores numéricos."
      ],
      "metadata": {
        "id": "FpYRm3EpVbg8"
      }
    },
    {
      "cell_type": "code",
      "source": [
        "# Paso 7\n",
        "datos.info()"
      ],
      "metadata": {
        "colab": {
          "base_uri": "https://localhost:8080/"
        },
        "id": "PIaNUXPwTPZT",
        "outputId": "9636c6da-010f-4703-ae57-dcc68fd9381b"
      },
      "execution_count": 76,
      "outputs": [
        {
          "output_type": "stream",
          "name": "stdout",
          "text": [
            "<class 'pandas.core.frame.DataFrame'>\n",
            "RangeIndex: 355 entries, 0 to 354\n",
            "Data columns (total 5 columns):\n",
            " #   Column         Non-Null Count  Dtype  \n",
            "---  ------         --------------  -----  \n",
            " 0   Calorías       355 non-null    float64\n",
            " 1   Carbohidratos  355 non-null    float64\n",
            " 2   Lípidos        355 non-null    float64\n",
            " 3   Proteína       355 non-null    float64\n",
            " 4   Sodio          355 non-null    float64\n",
            "dtypes: float64(5)\n",
            "memory usage: 14.0 KB\n"
          ]
        }
      ]
    },
    {
      "cell_type": "markdown",
      "source": [
        "**Limpiando los datos**"
      ],
      "metadata": {
        "id": "Wv90T65DVf2k"
      }
    },
    {
      "cell_type": "markdown",
      "source": [
        "8. Usando la función isnull()  buscamos valores nulos y obtenemos True o False dependiendo si hay o no"
      ],
      "metadata": {
        "id": "Tf5dFKJMVhIo"
      }
    },
    {
      "cell_type": "code",
      "source": [
        "# Paso 8\n",
        "valores_nulos = datos.isnull()\n",
        "print(valores_nulos.head())"
      ],
      "metadata": {
        "colab": {
          "base_uri": "https://localhost:8080/"
        },
        "id": "2JNwmYOgTRba",
        "outputId": "7ca9981c-66bd-4eb1-a38e-980ce8d96865"
      },
      "execution_count": 77,
      "outputs": [
        {
          "output_type": "stream",
          "name": "stdout",
          "text": [
            "   Calorías  Carbohidratos  Lípidos  Proteína  Sodio\n",
            "0     False          False    False     False  False\n",
            "1     False          False    False     False  False\n",
            "2     False          False    False     False  False\n",
            "3     False          False    False     False  False\n",
            "4     False          False    False     False  False\n"
          ]
        }
      ]
    },
    {
      "cell_type": "markdown",
      "source": [
        "9. Usando la función dropna() creamos un nuevo dataframe descartando los valores nulos o vacíos de nuestro dataframe datos_seleccionados"
      ],
      "metadata": {
        "id": "T3GhqRRAVjXF"
      }
    },
    {
      "cell_type": "code",
      "source": [
        "# Paso 9\n",
        "datos_limpios = datos.dropna()\n",
        "print(datos_limpios.head())"
      ],
      "metadata": {
        "colab": {
          "base_uri": "https://localhost:8080/"
        },
        "id": "UIE2wjNoTSMD",
        "outputId": "e221a086-6494-41eb-cf93-96f06df9da9b"
      },
      "execution_count": 78,
      "outputs": [
        {
          "output_type": "stream",
          "name": "stdout",
          "text": [
            "   Calorías  Carbohidratos  Lípidos  Proteína  Sodio\n",
            "0     0.135            0.0     4.62     21.91   57.0\n",
            "1     0.135            0.0     4.62     21.91   57.0\n",
            "2     0.195            0.0     7.72     29.55  393.0\n",
            "3     0.135            0.0     4.62     21.91   57.0\n",
            "4     0.135            0.0     4.62     21.91   57.0\n"
          ]
        }
      ]
    },
    {
      "cell_type": "markdown",
      "source": [
        "10. Validamos que no tenemos valores nulos en ninguna columna, todos deben dar cero .isnull().sum()"
      ],
      "metadata": {
        "id": "F4ZZ-ZO4VoAX"
      }
    },
    {
      "cell_type": "code",
      "source": [
        "# Paso 10\n",
        "print(datos_limpios.isnull().sum())"
      ],
      "metadata": {
        "colab": {
          "base_uri": "https://localhost:8080/"
        },
        "id": "kPWdTJ7wTTil",
        "outputId": "da9d8ec5-1dda-43a0-cec7-9b972cc5bb69"
      },
      "execution_count": 79,
      "outputs": [
        {
          "output_type": "stream",
          "name": "stdout",
          "text": [
            "Calorías         0\n",
            "Carbohidratos    0\n",
            "Lípidos          0\n",
            "Proteína         0\n",
            "Sodio            0\n",
            "dtype: int64\n"
          ]
        }
      ]
    },
    {
      "cell_type": "markdown",
      "source": [
        "**Preparando los datos**"
      ],
      "metadata": {
        "id": "SSL2_7zGVqYI"
      }
    },
    {
      "cell_type": "markdown",
      "source": [
        "11. Asigna los atributos a las variables en nuestros datos. La variable X contiene los atributos de entrada y la variable Y los atributos de salida."
      ],
      "metadata": {
        "id": "h-jFHsDeVt3q"
      }
    },
    {
      "cell_type": "code",
      "source": [
        "# Paso 11\n",
        "X = datos_limpios.iloc[:, 1:]  # Atributos de entrada\n",
        "Y = datos_limpios.iloc[:, 0]   # Atributos de salida"
      ],
      "metadata": {
        "id": "7NG07S0iTVpe"
      },
      "execution_count": 80,
      "outputs": []
    },
    {
      "cell_type": "markdown",
      "source": [
        "12. Ahora se dividen nuestros datos en un conjunto de entrenamiento (80%) y un conjunto de prueba (20%). Con los datos de entrenamiento realizamos el aprendizaje automático y con los datos de prueba realizamos la validación."
      ],
      "metadata": {
        "id": "D0WgmE3-VvqK"
      }
    },
    {
      "cell_type": "code",
      "source": [
        "# Paso 12\n",
        "from sklearn.model_selection import train_test_split\n",
        "X_train, X_test, Y_train, Y_test = train_test_split(X, Y, test_size=0.2, random_state=42)\n"
      ],
      "metadata": {
        "id": "H0O3DMUgTXSR"
      },
      "execution_count": 81,
      "outputs": []
    },
    {
      "cell_type": "markdown",
      "source": [
        "Modelación de los datos"
      ],
      "metadata": {
        "id": "llb0Z0oeVwpW"
      }
    },
    {
      "cell_type": "markdown",
      "source": [
        "13. De la librería SciKit-Learn importamos  la clase de regresión lineal y crearemos un objeto de esa clase, que será nuestro modelo de regresión lineal."
      ],
      "metadata": {
        "id": "bZwJKmYaV1Gc"
      }
    },
    {
      "cell_type": "code",
      "source": [
        "# Paso 13\n",
        "from sklearn.linear_model import LinearRegression\n",
        "modelo_regresion = LinearRegression()"
      ],
      "metadata": {
        "id": "DAVOIoFhTZbo"
      },
      "execution_count": 82,
      "outputs": []
    },
    {
      "cell_type": "markdown",
      "source": [
        "14. Ya con el modelo, utilizaremos la función fit() para \"ajustar\" el modelo a nuestro conjunto de datos. Esto permite al modelo \"estudiar\" nuestros datos y \"aprender\" de ellos."
      ],
      "metadata": {
        "id": "nqK4AXgIV277"
      }
    },
    {
      "cell_type": "code",
      "source": [
        "# Paso 14\n",
        "modelo_regresion.fit(X_train, Y_train)"
      ],
      "metadata": {
        "colab": {
          "base_uri": "https://localhost:8080/",
          "height": 75
        },
        "id": "5_PcJriaTaCh",
        "outputId": "246fefd6-eb23-405a-e3bd-998404ecf7c1"
      },
      "execution_count": 83,
      "outputs": [
        {
          "output_type": "execute_result",
          "data": {
            "text/plain": [
              "LinearRegression()"
            ],
            "text/html": [
              "<style>#sk-container-id-4 {color: black;background-color: white;}#sk-container-id-4 pre{padding: 0;}#sk-container-id-4 div.sk-toggleable {background-color: white;}#sk-container-id-4 label.sk-toggleable__label {cursor: pointer;display: block;width: 100%;margin-bottom: 0;padding: 0.3em;box-sizing: border-box;text-align: center;}#sk-container-id-4 label.sk-toggleable__label-arrow:before {content: \"▸\";float: left;margin-right: 0.25em;color: #696969;}#sk-container-id-4 label.sk-toggleable__label-arrow:hover:before {color: black;}#sk-container-id-4 div.sk-estimator:hover label.sk-toggleable__label-arrow:before {color: black;}#sk-container-id-4 div.sk-toggleable__content {max-height: 0;max-width: 0;overflow: hidden;text-align: left;background-color: #f0f8ff;}#sk-container-id-4 div.sk-toggleable__content pre {margin: 0.2em;color: black;border-radius: 0.25em;background-color: #f0f8ff;}#sk-container-id-4 input.sk-toggleable__control:checked~div.sk-toggleable__content {max-height: 200px;max-width: 100%;overflow: auto;}#sk-container-id-4 input.sk-toggleable__control:checked~label.sk-toggleable__label-arrow:before {content: \"▾\";}#sk-container-id-4 div.sk-estimator input.sk-toggleable__control:checked~label.sk-toggleable__label {background-color: #d4ebff;}#sk-container-id-4 div.sk-label input.sk-toggleable__control:checked~label.sk-toggleable__label {background-color: #d4ebff;}#sk-container-id-4 input.sk-hidden--visually {border: 0;clip: rect(1px 1px 1px 1px);clip: rect(1px, 1px, 1px, 1px);height: 1px;margin: -1px;overflow: hidden;padding: 0;position: absolute;width: 1px;}#sk-container-id-4 div.sk-estimator {font-family: monospace;background-color: #f0f8ff;border: 1px dotted black;border-radius: 0.25em;box-sizing: border-box;margin-bottom: 0.5em;}#sk-container-id-4 div.sk-estimator:hover {background-color: #d4ebff;}#sk-container-id-4 div.sk-parallel-item::after {content: \"\";width: 100%;border-bottom: 1px solid gray;flex-grow: 1;}#sk-container-id-4 div.sk-label:hover label.sk-toggleable__label {background-color: #d4ebff;}#sk-container-id-4 div.sk-serial::before {content: \"\";position: absolute;border-left: 1px solid gray;box-sizing: border-box;top: 0;bottom: 0;left: 50%;z-index: 0;}#sk-container-id-4 div.sk-serial {display: flex;flex-direction: column;align-items: center;background-color: white;padding-right: 0.2em;padding-left: 0.2em;position: relative;}#sk-container-id-4 div.sk-item {position: relative;z-index: 1;}#sk-container-id-4 div.sk-parallel {display: flex;align-items: stretch;justify-content: center;background-color: white;position: relative;}#sk-container-id-4 div.sk-item::before, #sk-container-id-4 div.sk-parallel-item::before {content: \"\";position: absolute;border-left: 1px solid gray;box-sizing: border-box;top: 0;bottom: 0;left: 50%;z-index: -1;}#sk-container-id-4 div.sk-parallel-item {display: flex;flex-direction: column;z-index: 1;position: relative;background-color: white;}#sk-container-id-4 div.sk-parallel-item:first-child::after {align-self: flex-end;width: 50%;}#sk-container-id-4 div.sk-parallel-item:last-child::after {align-self: flex-start;width: 50%;}#sk-container-id-4 div.sk-parallel-item:only-child::after {width: 0;}#sk-container-id-4 div.sk-dashed-wrapped {border: 1px dashed gray;margin: 0 0.4em 0.5em 0.4em;box-sizing: border-box;padding-bottom: 0.4em;background-color: white;}#sk-container-id-4 div.sk-label label {font-family: monospace;font-weight: bold;display: inline-block;line-height: 1.2em;}#sk-container-id-4 div.sk-label-container {text-align: center;}#sk-container-id-4 div.sk-container {/* jupyter's `normalize.less` sets `[hidden] { display: none; }` but bootstrap.min.css set `[hidden] { display: none !important; }` so we also need the `!important` here to be able to override the default hidden behavior on the sphinx rendered scikit-learn.org. See: https://github.com/scikit-learn/scikit-learn/issues/21755 */display: inline-block !important;position: relative;}#sk-container-id-4 div.sk-text-repr-fallback {display: none;}</style><div id=\"sk-container-id-4\" class=\"sk-top-container\"><div class=\"sk-text-repr-fallback\"><pre>LinearRegression()</pre><b>In a Jupyter environment, please rerun this cell to show the HTML representation or trust the notebook. <br />On GitHub, the HTML representation is unable to render, please try loading this page with nbviewer.org.</b></div><div class=\"sk-container\" hidden><div class=\"sk-item\"><div class=\"sk-estimator sk-toggleable\"><input class=\"sk-toggleable__control sk-hidden--visually\" id=\"sk-estimator-id-4\" type=\"checkbox\" checked><label for=\"sk-estimator-id-4\" class=\"sk-toggleable__label sk-toggleable__label-arrow\">LinearRegression</label><div class=\"sk-toggleable__content\"><pre>LinearRegression()</pre></div></div></div></div></div>"
            ]
          },
          "metadata": {},
          "execution_count": 83
        }
      ]
    },
    {
      "cell_type": "markdown",
      "source": [
        "15. En este punto, el algorítmo ya ha aprendido cuales son los coeficientes de X óptimos para satisfacer el modelo. (Interpreta que variable es la de mayor y menor peso en tu modelo y ve si son las mismas que observaste en los diagramas de dispersión). Para verlos copiamos el siguiente código:\n",
        "\n",
        "x_columns = ['Carbohidratos (g)', 'Lípidos/grasas (g)', 'Proteína (g)', 'Sodio (mg)']\n",
        "coeff_df = pd.DataFrame(modelo_regresion.coef_, x_columns, columns=['Coeficientes'])\n",
        "coeff_df"
      ],
      "metadata": {
        "id": "fjHBEsCKV5fZ"
      }
    },
    {
      "cell_type": "code",
      "source": [
        "# Paso 15\n",
        "x_columns = ['Carbohidratos (g)', 'Lípidos/grasas (g)', 'Proteína (g)', 'Sodio (mg)']\n",
        "coeff_df = pd.DataFrame(modelo_regresion.coef_, x_columns, columns=['Coeficientes'])\n",
        "print(coeff_df)"
      ],
      "metadata": {
        "colab": {
          "base_uri": "https://localhost:8080/"
        },
        "id": "d8GviUJOTcDu",
        "outputId": "a582aa10-6559-4a01-caf8-e19b63ac9d0d"
      },
      "execution_count": 84,
      "outputs": [
        {
          "output_type": "stream",
          "name": "stdout",
          "text": [
            "                    Coeficientes\n",
            "Carbohidratos (g)       0.380822\n",
            "Lípidos/grasas (g)      1.542006\n",
            "Proteína (g)           -0.577697\n",
            "Sodio (mg)              0.045438\n"
          ]
        }
      ]
    },
    {
      "cell_type": "markdown",
      "source": [
        "16. Despliega la ecuación de regresión del modelo que obtuviste."
      ],
      "metadata": {
        "id": "MqKe_gwdV78n"
      }
    },
    {
      "cell_type": "code",
      "source": [
        "# Paso 16\n",
        "intercepto = modelo_regresion.intercept_\n",
        "print(\"Ecuación de regresión:\")\n",
        "print(\"Calorías =\", intercepto, \"+\", modelo_regresion.coef_[0], \"* Carbohidratos +\", modelo_regresion.coef_[1], \"* Lípidos +\", modelo_regresion.coef_[2], \"* Proteína +\", modelo_regresion.coef_[3], \"* Sodio\")"
      ],
      "metadata": {
        "colab": {
          "base_uri": "https://localhost:8080/"
        },
        "id": "35VWtoFCTdks",
        "outputId": "a33853b4-a9a4-4e48-81bc-509586e961c0"
      },
      "execution_count": 85,
      "outputs": [
        {
          "output_type": "stream",
          "name": "stdout",
          "text": [
            "Ecuación de regresión:\n",
            "Calorías = 62.59116385700876 + 0.380821986302208 * Carbohidratos + 1.5420063746566715 * Lípidos + -0.5776968907839678 * Proteína + 0.04543774732289285 * Sodio\n"
          ]
        }
      ]
    },
    {
      "cell_type": "markdown",
      "source": [
        "17. Ahora que hemos creado nuestro modelo y lo hemos entrenado, es hora de probar el modelo con nuestro conjunto de datos de prueba."
      ],
      "metadata": {
        "id": "XSnEnLMIV-QU"
      }
    },
    {
      "cell_type": "code",
      "source": [
        "# Paso 17\n",
        "Y_pred = modelo_regresion.predict(X_test)"
      ],
      "metadata": {
        "id": "O9WrxazlTk4-"
      },
      "execution_count": 86,
      "outputs": []
    },
    {
      "cell_type": "markdown",
      "source": [
        "18. Revisa la diferencia entre los valores actuales y los valores de predicción en la comparación. Realiza la comparación con los 25 primeros valores."
      ],
      "metadata": {
        "id": "dHh9JESbWDPH"
      }
    },
    {
      "cell_type": "code",
      "source": [
        "# Paso 18\n",
        "diferencia = Y_test - Y_pred\n",
        "print(diferencia[:25])"
      ],
      "metadata": {
        "colab": {
          "base_uri": "https://localhost:8080/"
        },
        "id": "-Ls-9ZodTnJ7",
        "outputId": "cf63466f-5f33-46da-b11d-ff97f147d74b"
      },
      "execution_count": 87,
      "outputs": [
        {
          "output_type": "stream",
          "name": "stdout",
          "text": [
            "227   -133.415185\n",
            "42     -66.980220\n",
            "256    -68.049721\n",
            "182    -68.051202\n",
            "56    -111.722843\n",
            "332    560.821659\n",
            "15     -75.086545\n",
            "57     -75.254037\n",
            "140    -69.306630\n",
            "294    123.315559\n",
            "82     -88.926679\n",
            "168    -82.079747\n",
            "351    339.997656\n",
            "309    413.030501\n",
            "119    -66.912871\n",
            "333    405.320469\n",
            "317    170.079362\n",
            "145    -69.865141\n",
            "339    106.800279\n",
            "299    382.992745\n",
            "126   -100.281387\n",
            "219    -68.005809\n",
            "239    -83.373759\n",
            "33    -148.381668\n",
            "158    -63.525928\n",
            "Name: Calorías, dtype: float64\n"
          ]
        }
      ]
    },
    {
      "cell_type": "markdown",
      "source": [
        "19. Usamos la función describe() para obtener la estadística descriptiva de la columna Diferencia."
      ],
      "metadata": {
        "id": "0ES0uxY3WGNZ"
      }
    },
    {
      "cell_type": "code",
      "source": [
        "# Paso 19\n",
        "print(diferencia.describe())"
      ],
      "metadata": {
        "colab": {
          "base_uri": "https://localhost:8080/"
        },
        "id": "vOTdtQlwTntu",
        "outputId": "0cd0134b-98f5-44a1-95d9-a2300a4f2ca4"
      },
      "execution_count": 88,
      "outputs": [
        {
          "output_type": "stream",
          "name": "stdout",
          "text": [
            "count     71.000000\n",
            "mean      20.904625\n",
            "std      191.530319\n",
            "min     -148.381668\n",
            "25%      -82.860285\n",
            "50%      -69.306630\n",
            "75%       67.592437\n",
            "max      560.821659\n",
            "Name: Calorías, dtype: float64\n"
          ]
        }
      ]
    },
    {
      "cell_type": "markdown",
      "source": [
        "20. Calcula el coeficiente de determinación R2 para comprobar la precisión de nuestro modelo, mientras mayor sea el R2, mejor será el ajuste del modelo a los datos. Nuestro objetivo es un valor lo más cercano a 1 (100%), que nos indica que tanto se ajusta el modelo a nuestros datos, es decir, que porcentaje de calorías explicado por la regresión."
      ],
      "metadata": {
        "id": "ToHO14k9WI1P"
      }
    },
    {
      "cell_type": "code",
      "source": [
        "# Paso 20\n",
        "from sklearn.metrics import r2_score\n",
        "r2 = r2_score(Y_test, Y_pred)\n",
        "print(\"Coeficiente de determinación R2:\", r2)"
      ],
      "metadata": {
        "colab": {
          "base_uri": "https://localhost:8080/"
        },
        "id": "WEjedwsITpzg",
        "outputId": "dce65f60-c02d-4245-8c30-e93d060b2343"
      },
      "execution_count": 89,
      "outputs": [
        {
          "output_type": "stream",
          "name": "stdout",
          "text": [
            "Coeficiente de determinación R2: 0.015015014265236992\n"
          ]
        }
      ]
    },
    {
      "cell_type": "markdown",
      "source": [
        "**Visualización de los datos **"
      ],
      "metadata": {
        "id": "g_TjP41xWLY9"
      }
    },
    {
      "cell_type": "markdown",
      "source": [
        "21. Antes del paso 11 realiza una gráfica de subplot que contenga la correlación de cada uno de los datos de entrada X con el dato de salida Y, dale formato que incluya el nombre de los ejes y el título general de la gráfica y establece si alguna variable es eliminable del modelo de acuerdo a las gráficas."
      ],
      "metadata": {
        "id": "nCn9SEshWNc6"
      }
    },
    {
      "cell_type": "code",
      "source": [
        "# Paso 21\n",
        "import matplotlib.pyplot as plt\n",
        "import seaborn as sns\n",
        "\n",
        "plt.figure(figsize=(12, 6))\n",
        "for i, col in enumerate(X.columns):\n",
        "    plt.subplot(2, 2, i+1)\n",
        "    sns.scatterplot(x=col, y='Calorías', data=datos_limpios)\n",
        "    plt.xlabel(col)\n",
        "    plt.ylabel('Calorías')\n",
        "plt.suptitle('Correlación entre variables de entrada y Calorías')\n",
        "plt.tight_layout()\n",
        "plt.show()\n"
      ],
      "metadata": {
        "colab": {
          "base_uri": "https://localhost:8080/",
          "height": 609
        },
        "id": "KCYOHRCzTr5N",
        "outputId": "5ec6e9ec-58b0-4310-bc6e-a803e1f747aa"
      },
      "execution_count": 90,
      "outputs": [
        {
          "output_type": "display_data",
          "data": {
            "text/plain": [
              "<Figure size 1200x600 with 4 Axes>"
            ],
            "image/png": "[encoded data removed]"
          },
          "metadata": {}
        }
      ]
    },
    {
      "cell_type": "markdown",
      "source": [
        "22. Ahora toca realizar los gráficos para la visualización de los datos para hacer la comparación de valores actuales, de predicción y la diferencia (usa una gráfico de barras) y estimar de manera visual que tan preciso o no es nuestro modelo para calcular calorías.  Para esto importamos la librería matplotlib."
      ],
      "metadata": {
        "id": "Z4GOJlHRWRBB"
      }
    },
    {
      "cell_type": "code",
      "source": [
        "# Paso 22\n",
        "plt.figure(figsize=(10, 6))\n",
        "indices = range(len(Y_pred[:25]))\n",
        "plt.bar(indices, Y_test[:25], color='b', alpha=0.5, label='Actual')\n",
        "plt.bar(indices, Y_pred[:25], color='r', alpha=0.5, label='Predicción')\n",
        "plt.bar(indices, diferencia[:25], color='g', alpha=0.5, label='Diferencia')\n",
        "plt.xlabel('Índice')\n",
        "plt.ylabel('Calorías')\n",
        "plt.title('Comparación de valores: Actual vs Predicción vs Diferencia')\n",
        "plt.legend()\n",
        "plt.show()"
      ],
      "metadata": {
        "colab": {
          "base_uri": "https://localhost:8080/",
          "height": 565
        },
        "id": "VLgepb6VTtgb",
        "outputId": "3ffcbb5f-3fa4-4c82-f85a-063c8ca484e8"
      },
      "execution_count": 91,
      "outputs": [
        {
          "output_type": "display_data",
          "data": {
            "text/plain": [
              "<Figure size 1000x600 with 1 Axes>"
            ],
            "image/png": "[encoded data removed]"
          },
          "metadata": {}
        }
      ]
    }
  ]
}