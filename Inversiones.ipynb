{
  "nbformat": 4,
  "nbformat_minor": 0,
  "metadata": {
    "colab": {
      "provenance": [],
      "authorship_tag": "ABX9TyNL57domT1EDSORTTRcy73d",
      "include_colab_link": true
    },
    "kernelspec": {
      "name": "python3",
      "display_name": "Python 3"
    },
    "language_info": {
      "name": "python"
    }
  },
  "cells": [
    {
      "cell_type": "markdown",
      "metadata": {
        "id": "view-in-github",
        "colab_type": "text"
      },
      "source": [
        "<a href=\"https://colab.research.google.com/github/OscarAliM/Matematicas_y_Ciencia_de_Datos_2024/blob/main/Inversiones.ipynb\" target=\"_parent\"><img src=\"https://colab.research.google.com/assets/colab-badge.svg\" alt=\"Open In Colab\"/></a>"
      ]
    },
    {
      "cell_type": "code",
      "execution_count": 2,
      "metadata": {
        "colab": {
          "base_uri": "https://localhost:8080/"
        },
        "id": "38AxwTFYb-7I",
        "outputId": "8310a119-2401-42b8-9bf0-050101243f16"
      },
      "outputs": [
        {
          "output_type": "stream",
          "name": "stdout",
          "text": [
            "Ingrese el monto a invertir: 6800\n",
            "Ingrese la tasa de interés anual (%): 0.31\n",
            "Ingrese el número de años de inversión: 7\n",
            "Usando un bucle for:\n",
            "Año 1: Nuevo capital = 6821.08\n",
            "Año 2: Nuevo capital = 6842.23\n",
            "Año 3: Nuevo capital = 6863.44\n",
            "Año 4: Nuevo capital = 6884.71\n",
            "Año 5: Nuevo capital = 6906.06\n",
            "Año 6: Nuevo capital = 6927.46\n",
            "Año 7: Nuevo capital = 6948.94\n",
            "\n",
            "Usando un bucle while:\n",
            "Año 1: Nuevo capital = 6821.08\n",
            "Año 2: Nuevo capital = 6842.23\n",
            "Año 3: Nuevo capital = 6863.44\n",
            "Año 4: Nuevo capital = 6884.71\n",
            "Año 5: Nuevo capital = 6906.06\n",
            "Año 6: Nuevo capital = 6927.46\n",
            "Año 7: Nuevo capital = 6948.94\n"
          ]
        }
      ],
      "source": [
        "def calcular_nuevo_capital(monto, tasa_interes, años):\n",
        "    tasa_interes_decimal = tasa_interes / 100\n",
        "\n",
        "    # Usando un bucle for\n",
        "    print(\"Usando un bucle for:\")\n",
        "    for año in range(1, años + 1):\n",
        "        nuevo_capital = monto * (1 + tasa_interes_decimal) ** año\n",
        "        print(f\"Año {año}: Nuevo capital = {nuevo_capital:.2f}\")\n",
        "\n",
        "    # Usando un bucle while\n",
        "    print(\"\\nUsando un bucle while:\")\n",
        "    año = 1\n",
        "    while año <= años:\n",
        "        nuevo_capital = monto * (1 + tasa_interes_decimal) ** año\n",
        "        print(f\"Año {año}: Nuevo capital = {nuevo_capital:.2f}\")\n",
        "        año += 1\n",
        "\n",
        "monto_invertido = float(input(\"Ingrese el monto a invertir: \"))\n",
        "tasa_interes_anual = float(input(\"Ingrese la tasa de interés anual (%): \"))\n",
        "años_inversion = int(input(\"Ingrese el número de años de inversión: \"))\n",
        "\n",
        "calcular_nuevo_capital(monto_invertido, tasa_interes_anual, años_inversion)"
      ]
    }
  ]
}