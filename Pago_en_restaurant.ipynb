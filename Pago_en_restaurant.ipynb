{
  "nbformat": 4,
  "nbformat_minor": 0,
  "metadata": {
    "colab": {
      "provenance": [],
      "authorship_tag": "ABX9TyNA1Nql/UZikkgRWMa0dN37",
      "include_colab_link": true
    },
    "kernelspec": {
      "name": "python3",
      "display_name": "Python 3"
    },
    "language_info": {
      "name": "python"
    }
  },
  "cells": [
    {
      "cell_type": "markdown",
      "metadata": {
        "id": "view-in-github",
        "colab_type": "text"
      },
      "source": [
        "<a href=\"https://colab.research.google.com/github/OscarAliM/Matematicas_y_Ciencia_de_Datos_2024/blob/main/Pago_en_restaurant.ipynb\" target=\"_parent\"><img src=\"https://colab.research.google.com/assets/colab-badge.svg\" alt=\"Open In Colab\"/></a>"
      ]
    },
    {
      "cell_type": "code",
      "execution_count": 4,
      "metadata": {
        "colab": {
          "base_uri": "https://localhost:8080/"
        },
        "id": "udOZHiAaWwC3",
        "outputId": "cac336cc-db8e-47b2-bc77-11678e050c53"
      },
      "outputs": [
        {
          "output_type": "stream",
          "name": "stdout",
          "text": [
            "Ingrese la cantidad de personas por mesa: 4\n",
            "Ingrese la edad del cliente 1: 6\n",
            "Cliente 1 de 4 - Precio de entrada: $250\n",
            "Ingrese la edad del cliente 2: 32\n",
            "Cliente 2 de 4 - Precio de entrada: $350\n",
            "Ingrese la edad del cliente 3: 31\n",
            "Cliente 3 de 4 - Precio de entrada: $350\n",
            "Ingrese la edad del cliente 4: 16\n",
            "Cliente 4 de 4 - Precio de entrada: $350\n",
            "\n",
            "El total a pagar por la mesa es: $1300\n"
          ]
        }
      ],
      "source": [
        "# Pedir la cantidad de personas por mesa\n",
        "personas_por_mesa = int(input(\"Ingrese la cantidad de personas por mesa: \"))\n",
        "\n",
        "# Inicializar el total de la cuenta\n",
        "total_cuenta = 0\n",
        "\n",
        "# Iterar para cada persona en la mesa\n",
        "for i in range(personas_por_mesa):\n",
        "    # Pedir la edad del cliente\n",
        "    edad = int(input(\"Ingrese la edad del cliente \" + str(i+1) + \": \"))\n",
        "\n",
        "    # Determinar el precio de la entrada según la edad\n",
        "    if edad < 5:\n",
        "        precio = 0\n",
        "    elif 5 <= edad <= 14:\n",
        "        precio = 250\n",
        "    else:\n",
        "        precio = 350\n",
        "\n",
        "    # Agregar el precio al total de la cuenta\n",
        "    total_cuenta += precio\n",
        "\n",
        "    # Mostrar el precio a pagar por cada persona\n",
        "    print(\"Cliente\", i+1, \"de\", personas_por_mesa, \"- Precio de entrada: $\" + str(precio))\n",
        "\n",
        "# Mostrar el total de la cuenta\n",
        "print(\"\\nEl total a pagar por la mesa es: $\" + str(total_cuenta))"
      ]
    }
  ]
}