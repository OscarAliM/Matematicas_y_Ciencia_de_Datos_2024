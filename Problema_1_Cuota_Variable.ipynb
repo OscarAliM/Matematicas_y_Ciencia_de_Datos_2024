{
  "nbformat": 4,
  "nbformat_minor": 0,
  "metadata": {
    "colab": {
      "provenance": [],
      "authorship_tag": "ABX9TyNe7qh9jnAxzkP0nOJzsqhK",
      "include_colab_link": true
    },
    "kernelspec": {
      "name": "python3",
      "display_name": "Python 3"
    },
    "language_info": {
      "name": "python"
    }
  },
  "cells": [
    {
      "cell_type": "markdown",
      "metadata": {
        "id": "view-in-github",
        "colab_type": "text"
      },
      "source": [
        "<a href=\"https://colab.research.google.com/github/OscarAliM/Matematicas_y_Ciencia_de_Datos_2024/blob/main/Problema_1_Cuota_Variable.ipynb\" target=\"_parent\"><img src=\"https://colab.research.google.com/assets/colab-badge.svg\" alt=\"Open In Colab\"/></a>"
      ]
    },
    {
      "cell_type": "code",
      "source": [
        "salario_bruto=10000\n",
        "limite_inferior=8629.21\n",
        "cuota_fija=692.96\n",
        "cuota_imss=537\n",
        "tasa_impuesto=0.16\n",
        "cuota_variable=tasa_impuesto*(salario_bruto-limite_inferior)\n",
        "cuota_final=salario_bruto-cuota_variable-cuota_fija-cuota_imss\n",
        "print(\"La cuota final es: \",round(cuota_final,2))"
      ],
      "metadata": {
        "colab": {
          "base_uri": "https://localhost:8080/"
        },
        "id": "uhT17n4jn_Kb",
        "outputId": "d4dd9a01-fb82-4112-89f8-4f816c7f19ca"
      },
      "execution_count": 3,
      "outputs": [
        {
          "output_type": "stream",
          "name": "stdout",
          "text": [
            "La cuota final es:  8550.71\n"
          ]
        }
      ]
    },
    {
      "cell_type": "code",
      "source": [
        "# Definir variables\n",
        "salario_bruto = 10000\n",
        "tasa_impuestos = 0.16\n",
        "cuota_fija_impuestos = 692.96\n",
        "monto_IMSS = 537\n",
        "franja_salarial_inicio = 8629.21\n",
        "franja_salarial_fin = 10031.07\n",
        "\n",
        "# Calcular impuestos\n",
        "if salario_bruto >= franja_salarial_inicio and salario_bruto <= franja_salarial_fin:\n",
        "    impuestos = salario_bruto * tasa_impuestos - cuota_fija_impuestos\n",
        "else:\n",
        "    impuestos = salario_bruto * tasa_impuestos\n",
        "\n",
        "# Calcular salario neto\n",
        "salario_neto = salario_bruto - impuestos - monto_IMSS\n",
        "\n",
        "# Imprimir resultados\n",
        "print(\"Salario bruto mensual: $\", salario_bruto)\n",
        "print(\"Deducciones de impuestos: $\", impuestos)\n",
        "print(\"Deducciones de IMSS: $\", monto_IMSS)\n",
        "print(\"Salario neto mensual: $\", salario_neto)"
      ],
      "metadata": {
        "colab": {
          "base_uri": "https://localhost:8080/"
        },
        "id": "GI6gnTLjnA5L",
        "outputId": "bbc96f93-849e-41cb-ea0b-5b10dd1fbf6a"
      },
      "execution_count": 2,
      "outputs": [
        {
          "output_type": "stream",
          "name": "stdout",
          "text": [
            "Salario bruto mensual: $ 10000\n",
            "Deducciones de impuestos: $ 907.04\n",
            "Deducciones de IMSS: $ 537\n",
            "Salario neto mensual: $ 8555.96\n"
          ]
        }
      ]
    }
  ]
}