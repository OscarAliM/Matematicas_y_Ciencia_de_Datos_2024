{
  "nbformat": 4,
  "nbformat_minor": 0,
  "metadata": {
    "colab": {
      "provenance": [],
      "authorship_tag": "ABX9TyPRkoHNrrzYt8IMojuayqlk",
      "include_colab_link": true
    },
    "kernelspec": {
      "name": "python3",
      "display_name": "Python 3"
    },
    "language_info": {
      "name": "python"
    }
  },
  "cells": [
    {
      "cell_type": "markdown",
      "metadata": {
        "id": "view-in-github",
        "colab_type": "text"
      },
      "source": [
        "<a href=\"https://colab.research.google.com/github/OscarAliM/Matematicas_y_Ciencia_de_Datos_2024/blob/main/Problema_2_C%C3%A1lculo_del_Impuesto.ipynb\" target=\"_parent\"><img src=\"https://colab.research.google.com/assets/colab-badge.svg\" alt=\"Open In Colab\"/></a>"
      ]
    },
    {
      "cell_type": "code",
      "execution_count": 1,
      "metadata": {
        "colab": {
          "base_uri": "https://localhost:8080/"
        },
        "id": "3COkRKsAqk1r",
        "outputId": "fcb66bfb-be01-4542-bee8-029d71b267cc"
      },
      "outputs": [
        {
          "output_type": "stream",
          "name": "stdout",
          "text": [
            "Costo sin impuestos: $ 175\n",
            "Impuestos: $ 21.0\n",
            "Bonificación: $ 8.75\n",
            "Monto neto a pagar: $ 187.25\n"
          ]
        }
      ],
      "source": [
        "costo_sin_impuestos = 175\n",
        "tasa_impuestos = 0.12\n",
        "tasa_bonificacion = 0.05\n",
        "\n",
        "# Calcular impuestos\n",
        "impuestos = costo_sin_impuestos * tasa_impuestos\n",
        "\n",
        "# Calcular bonificación\n",
        "bonificacion = costo_sin_impuestos * tasa_bonificacion\n",
        "\n",
        "# Calcular monto neto a pagar\n",
        "monto_neto_pagar = costo_sin_impuestos + impuestos - bonificacion\n",
        "\n",
        "# Imprimir resultados\n",
        "print(\"Costo sin impuestos: $\", costo_sin_impuestos)\n",
        "print(\"Impuestos: $\", impuestos)\n",
        "print(\"Bonificación: $\", bonificacion)\n",
        "print(\"Monto neto a pagar: $\", monto_neto_pagar)"
      ]
    }
  ]
}