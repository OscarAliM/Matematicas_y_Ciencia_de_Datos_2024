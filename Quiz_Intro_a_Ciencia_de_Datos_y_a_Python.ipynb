{
  "nbformat": 4,
  "nbformat_minor": 0,
  "metadata": {
    "colab": {
      "provenance": [],
      "authorship_tag": "ABX9TyOQ5kJBT8y0adwwVq3X0fba",
      "include_colab_link": true
    },
    "kernelspec": {
      "name": "python3",
      "display_name": "Python 3"
    },
    "language_info": {
      "name": "python"
    }
  },
  "cells": [
    {
      "cell_type": "markdown",
      "metadata": {
        "id": "view-in-github",
        "colab_type": "text"
      },
      "source": [
        "<a href=\"https://colab.research.google.com/github/OscarAliM/Matematicas_y_Ciencia_de_Datos_2024/blob/main/Quiz_Intro_a_Ciencia_de_Datos_y_a_Python.ipynb\" target=\"_parent\"><img src=\"https://colab.research.google.com/assets/colab-badge.svg\" alt=\"Open In Colab\"/></a>"
      ]
    },
    {
      "cell_type": "code",
      "execution_count": 2,
      "metadata": {
        "colab": {
          "base_uri": "https://localhost:8080/"
        },
        "id": "cTEi66zE_YKV",
        "outputId": "532b319c-773e-4c45-a732-65eec1186dea"
      },
      "outputs": [
        {
          "output_type": "stream",
          "name": "stdout",
          "text": [
            "Dígame su nombre: Alberto\n",
            "Está autorizado\n"
          ]
        }
      ],
      "source": [
        "personas_autorizadas = [\"Alberto\", \"Carmen\", \"Marta\", \"Jacinto\"]\n",
        "nombre = input(\"Dígame su nombre: \")\n",
        "if nombre in personas_autorizadas:\n",
        "  print(\"Está autorizado\")\n",
        "else:\n",
        "  print(\"No está autorizado\")"
      ]
    },
    {
      "cell_type": "code",
      "source": [
        "peso = float(input(\"Dígame su peso en kg: \"))\n",
        "print(\"Su peso es\", peso, \"kg\")"
      ],
      "metadata": {
        "colab": {
          "base_uri": "https://localhost:8080/"
        },
        "id": "9s8y0r58AKbQ",
        "outputId": "74c0c23f-4a6b-4765-de44-45f8eaa7e8ba"
      },
      "execution_count": 17,
      "outputs": [
        {
          "output_type": "stream",
          "name": "stdout",
          "text": [
            "Dígame su peso en kg: 100\n",
            "Su peso es 100.0 kg\n"
          ]
        }
      ]
    },
    {
      "cell_type": "markdown",
      "source": [
        "Escribe un programa que pida el año actual y otro año cualquiera,  puede ser mayor o menor al año actual.\n",
        "\n",
        "Posteriormente debe de imprimir en pantalla cuántos años han pasado desde ese año o cuántos años faltan para llegar a ese año."
      ],
      "metadata": {
        "id": "OSltEqc8Cay2"
      }
    },
    {
      "cell_type": "code",
      "source": [
        "def calcular_anios(anio_actual, otro_anio):\n",
        "    if anio_actual == otro_anio:\n",
        "        print(\"Los años son iguales. No ha pasado ningún año.\")\n",
        "    elif anio_actual < otro_anio:\n",
        "        anios_pasados = otro_anio - anio_actual\n",
        "        print(f\"Faltan {anios_pasados} años para llegar al año {otro_anio}.\")\n",
        "    else:\n",
        "        anios_faltantes = anio_actual - otro_anio\n",
        "        print(f\"Han pasado {anios_faltantes} años desde el año {otro_anio}.\")\n",
        "\n",
        "def main():\n",
        "    try:\n",
        "        anio_actual = int(input(\"Ingrese el año actual: \"))\n",
        "        otro_anio = int(input(\"Ingrese otro año: \"))\n",
        "        calcular_anios(anio_actual, otro_anio)\n",
        "    except ValueError:\n",
        "        print(\"Por favor, ingrese un año válido.\")\n",
        "\n",
        "if __name__ == \"__main__\":\n",
        "    main()"
      ],
      "metadata": {
        "colab": {
          "base_uri": "https://localhost:8080/"
        },
        "id": "XuEQ158gCblr",
        "outputId": "208f7cec-dc2e-4bba-e214-e4a9054df7b4"
      },
      "execution_count": 15,
      "outputs": [
        {
          "output_type": "stream",
          "name": "stdout",
          "text": [
            "Ingrese el año actual: 2024\n",
            "Ingrese otro año: 1985\n",
            "Han pasado 39 años desde el año 1985.\n"
          ]
        }
      ]
    },
    {
      "cell_type": "markdown",
      "source": [
        "Escribe un programa que contenga una lista con las alturas de al menos 6 miembros de tu familia.\n",
        "\n",
        "El programa debe imprimir la menor y la mayor de las alturas de los miembros de tu familia.\n",
        "\n",
        "A través de un ciclo for y un contador calcula la suma de las alturas de la familia y el promedio de altura."
      ],
      "metadata": {
        "id": "FKYpZF41Dbvc"
      }
    },
    {
      "cell_type": "code",
      "source": [
        "# Lista de alturas de la familia\n",
        "alturas_familia = [170, 165, 180, 160, 175, 172]\n",
        "\n",
        "# Encontrar la altura mínima y máxima\n",
        "altura_minima = min(alturas_familia)\n",
        "altura_maxima = max(alturas_familia)\n",
        "\n",
        "print(\"La menor de las alturas en la familia es:\", altura_minima, \"cm\")\n",
        "print(\"La mayor de las alturas en la familia es:\", altura_maxima, \"cm\")\n",
        "\n",
        "# Calcular la suma de las alturas\n",
        "suma_alturas = 0\n",
        "for altura in alturas_familia:\n",
        "    suma_alturas += altura\n",
        "\n",
        "# Calcular el promedio de alturas\n",
        "promedio_alturas = suma_alturas / len(alturas_familia)\n",
        "\n",
        "print(\"La suma de las alturas de mis familiares es:\", suma_alturas, \"cm\")\n",
        "print(\"Y la altura promedio de los miembros de mi familia es:\", promedio_alturas, \"cm\")"
      ],
      "metadata": {
        "colab": {
          "base_uri": "https://localhost:8080/"
        },
        "id": "xWKJI3PzDesv",
        "outputId": "035655db-1f49-4505-ceaf-9202e8b53842"
      },
      "execution_count": 21,
      "outputs": [
        {
          "output_type": "stream",
          "name": "stdout",
          "text": [
            "La menor de las alturas en la familia es: 160 cm\n",
            "La mayor de las alturas en la familia es: 180 cm\n",
            "La suma de las alturas de mis familiares es: 1022 cm\n",
            "Y la altura promedio de los miembros de mi familia es: 170.33333333333334 cm\n"
          ]
        }
      ]
    }
  ]
}